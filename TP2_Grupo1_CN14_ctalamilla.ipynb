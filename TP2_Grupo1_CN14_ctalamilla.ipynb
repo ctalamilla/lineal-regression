{
 "cells": [
  {
   "cell_type": "code",
   "execution_count": 449,
   "metadata": {},
   "outputs": [],
   "source": [
    "import pandas as pd\n",
    "pd.options.display.float_format = '{:.2f}'.format\n",
    "import warnings\n",
    "warnings.filterwarnings(\"ignore\")\n",
    "import seaborn as sns\n",
    "import numpy as np\n",
    "import matplotlib.pyplot as plt"
   ]
  },
  {
   "cell_type": "code",
   "execution_count": 430,
   "metadata": {},
   "outputs": [],
   "source": [
    "from sklearn.preprocessing import StandardScaler\n",
    "from sklearn.model_selection import train_test_split\n",
    "from sklearn.model_selection import cross_val_score\n",
    "from sklearn.metrics import mean_squared_error\n",
    "from sklearn.metrics import mean_absolute_error\n",
    "from sklearn.linear_model import LinearRegression\n",
    "from sklearn.model_selection import cross_validate\n",
    "from sklearn.model_selection import train_test_split\n"
   ]
  },
  {
   "cell_type": "markdown",
   "metadata": {},
   "source": [
    "### Introducción\n",
    "\n",
    "En el trabajo práctico número 1 se realizaron trabajos de limpieza e imputación de datos en el dataset de propiedades de properati. \n",
    "En esta instancia se modelarán distintos escenarios de features y rangos de datos, los modelos serán evaluados mediante métricas de evaluación de modelos. Principalmente trabajarán con modelos de regresión lineal."
   ]
  },
  {
   "cell_type": "markdown",
   "metadata": {},
   "source": [
    "### Objetivos\n",
    "1. Definir escenarios de datos (columnas, y rango de datos)\n",
    "2. Realizar regresiones lineales multiples los diferentes escenarios de datos.\n",
    "3. Evaluar cada modelo desarrollado con los diferentes escenarios de datos encontrados."
   ]
  },
  {
   "cell_type": "markdown",
   "metadata": {},
   "source": [
    "### Escenarios\n",
    "1. Escenario 1: Datos sin escalar, todas las features.\n",
    "2. Escenario 2: Datos sin outliers en la columna precio por metro cuadrado, y superficie, Escalados\n",
    "3. Escenario 3: Modelo OLS, y eliminando columnas sin importancia significativa.\n",
    "4. Escenario 4: Idem Escenesario2 pero con Regularizacion Ridge\n",
    "5. Escenario 5: Idem Escenesario2 pero con Regularizacion Lasso \n",
    "6. Escenario 6: Idem Escenario 2 con columnas ameneties"
   ]
  },
  {
   "cell_type": "markdown",
   "metadata": {},
   "source": [
    "### Desarrollo"
   ]
  },
  {
   "cell_type": "markdown",
   "metadata": {},
   "source": [
    "El dataset a trabajar es el mismo obtenido del TP1."
   ]
  },
  {
   "cell_type": "code",
   "execution_count": 431,
   "metadata": {},
   "outputs": [],
   "source": [
    "data_bsas = pd.read_csv('./Data/data_tp2.csv', index_col= 0)"
   ]
  },
  {
   "cell_type": "code",
   "execution_count": 432,
   "metadata": {},
   "outputs": [
    {
     "data": {
      "text/html": [
       "<div>\n",
       "<style scoped>\n",
       "    .dataframe tbody tr th:only-of-type {\n",
       "        vertical-align: middle;\n",
       "    }\n",
       "\n",
       "    .dataframe tbody tr th {\n",
       "        vertical-align: top;\n",
       "    }\n",
       "\n",
       "    .dataframe thead th {\n",
       "        text-align: right;\n",
       "    }\n",
       "</style>\n",
       "<table border=\"1\" class=\"dataframe\">\n",
       "  <thead>\n",
       "    <tr style=\"text-align: right;\">\n",
       "      <th></th>\n",
       "      <th>property_type</th>\n",
       "      <th>lat</th>\n",
       "      <th>lon</th>\n",
       "      <th>price_aprox_usd</th>\n",
       "      <th>surface_covered_in_m2</th>\n",
       "      <th>rooms</th>\n",
       "      <th>description</th>\n",
       "      <th>title</th>\n",
       "      <th>surface_total_fixed</th>\n",
       "      <th>precio_per_m2</th>\n",
       "      <th>place_category</th>\n",
       "    </tr>\n",
       "  </thead>\n",
       "  <tbody>\n",
       "    <tr>\n",
       "      <th>0</th>\n",
       "      <td>PH</td>\n",
       "      <td>-34.66</td>\n",
       "      <td>-58.51</td>\n",
       "      <td>62000.00</td>\n",
       "      <td>40.00</td>\n",
       "      <td>nan</td>\n",
       "      <td>2 AMBIENTES TIPO CASA PLANTA BAJA POR PASILLO,...</td>\n",
       "      <td>2 AMB TIPO CASA SIN EXPENSAS EN PB</td>\n",
       "      <td>55.00</td>\n",
       "      <td>1127.27</td>\n",
       "      <td>Q1</td>\n",
       "    </tr>\n",
       "    <tr>\n",
       "      <th>1</th>\n",
       "      <td>apartment</td>\n",
       "      <td>-34.65</td>\n",
       "      <td>-58.52</td>\n",
       "      <td>72000.00</td>\n",
       "      <td>55.00</td>\n",
       "      <td>nan</td>\n",
       "      <td>2 AMBIENTES 3ER PISO LATERAL LIVING COMEDOR AM...</td>\n",
       "      <td>2 AMB 3ER PISO CON ASCENSOR APTO CREDITO</td>\n",
       "      <td>55.00</td>\n",
       "      <td>1309.09</td>\n",
       "      <td>Q1</td>\n",
       "    </tr>\n",
       "    <tr>\n",
       "      <th>2</th>\n",
       "      <td>apartment</td>\n",
       "      <td>-34.56</td>\n",
       "      <td>-58.44</td>\n",
       "      <td>138000.00</td>\n",
       "      <td>40.00</td>\n",
       "      <td>nan</td>\n",
       "      <td>EXCELENTE MONOAMBIENTE A ESTRENAR AMPLIO SUPER...</td>\n",
       "      <td>JOSE HERNANDEZ 1400 MONOAMBIENTE  ESTRENAR CAT...</td>\n",
       "      <td>45.00</td>\n",
       "      <td>3066.67</td>\n",
       "      <td>Q4</td>\n",
       "    </tr>\n",
       "  </tbody>\n",
       "</table>\n",
       "</div>"
      ],
      "text/plain": [
       "  property_type    lat    lon  price_aprox_usd  surface_covered_in_m2  rooms  \\\n",
       "0            PH -34.66 -58.51         62000.00                  40.00    nan   \n",
       "1     apartment -34.65 -58.52         72000.00                  55.00    nan   \n",
       "2     apartment -34.56 -58.44        138000.00                  40.00    nan   \n",
       "\n",
       "                                         description  \\\n",
       "0  2 AMBIENTES TIPO CASA PLANTA BAJA POR PASILLO,...   \n",
       "1  2 AMBIENTES 3ER PISO LATERAL LIVING COMEDOR AM...   \n",
       "2  EXCELENTE MONOAMBIENTE A ESTRENAR AMPLIO SUPER...   \n",
       "\n",
       "                                               title  surface_total_fixed  \\\n",
       "0                 2 AMB TIPO CASA SIN EXPENSAS EN PB                55.00   \n",
       "1           2 AMB 3ER PISO CON ASCENSOR APTO CREDITO                55.00   \n",
       "2  JOSE HERNANDEZ 1400 MONOAMBIENTE  ESTRENAR CAT...                45.00   \n",
       "\n",
       "   precio_per_m2 place_category  \n",
       "0        1127.27             Q1  \n",
       "1        1309.09             Q1  \n",
       "2        3066.67             Q4  "
      ]
     },
     "execution_count": 432,
     "metadata": {},
     "output_type": "execute_result"
    }
   ],
   "source": [
    "data_bsas.head(3)"
   ]
  },
  {
   "cell_type": "markdown",
   "metadata": {},
   "source": [
    "Adicionalmente se creo un df de dummies a partir de la columna description. Estas dummies hacen referencia a la presencia o no de ammenities en la propiedad. Estas columnas dummies serán evaluas con el mejor modelo resultando y se verá si tienen algun peso en la performance del modelo. "
   ]
  },
  {
   "cell_type": "code",
   "execution_count": 433,
   "metadata": {},
   "outputs": [],
   "source": [
    "import re"
   ]
  },
  {
   "cell_type": "code",
   "execution_count": 434,
   "metadata": {},
   "outputs": [
    {
     "data": {
      "text/html": [
       "<div>\n",
       "<style scoped>\n",
       "    .dataframe tbody tr th:only-of-type {\n",
       "        vertical-align: middle;\n",
       "    }\n",
       "\n",
       "    .dataframe tbody tr th {\n",
       "        vertical-align: top;\n",
       "    }\n",
       "\n",
       "    .dataframe thead th {\n",
       "        text-align: right;\n",
       "    }\n",
       "</style>\n",
       "<table border=\"1\" class=\"dataframe\">\n",
       "  <thead>\n",
       "    <tr style=\"text-align: right;\">\n",
       "      <th></th>\n",
       "      <th>pileta</th>\n",
       "      <th>nuevo</th>\n",
       "      <th>amenities</th>\n",
       "      <th>monoamb</th>\n",
       "      <th>aptoprof</th>\n",
       "      <th>contrafrente</th>\n",
       "      <th>SUM</th>\n",
       "      <th>calefa</th>\n",
       "      <th>terraza</th>\n",
       "      <th>parrilla</th>\n",
       "      <th>...</th>\n",
       "      <th>lavadero</th>\n",
       "      <th>balcon</th>\n",
       "      <th>gym</th>\n",
       "      <th>jacuzzi</th>\n",
       "      <th>toillette</th>\n",
       "      <th>en_suite</th>\n",
       "      <th>baulera</th>\n",
       "      <th>escritorio</th>\n",
       "      <th>al_frente</th>\n",
       "      <th>esq_av</th>\n",
       "    </tr>\n",
       "  </thead>\n",
       "  <tbody>\n",
       "    <tr>\n",
       "      <th>0</th>\n",
       "      <td>0</td>\n",
       "      <td>1</td>\n",
       "      <td>0</td>\n",
       "      <td>0</td>\n",
       "      <td>0</td>\n",
       "      <td>0</td>\n",
       "      <td>0</td>\n",
       "      <td>0</td>\n",
       "      <td>0</td>\n",
       "      <td>0</td>\n",
       "      <td>...</td>\n",
       "      <td>0</td>\n",
       "      <td>0</td>\n",
       "      <td>0</td>\n",
       "      <td>0</td>\n",
       "      <td>0</td>\n",
       "      <td>0</td>\n",
       "      <td>0</td>\n",
       "      <td>0</td>\n",
       "      <td>0</td>\n",
       "      <td>0</td>\n",
       "    </tr>\n",
       "    <tr>\n",
       "      <th>1</th>\n",
       "      <td>0</td>\n",
       "      <td>0</td>\n",
       "      <td>0</td>\n",
       "      <td>0</td>\n",
       "      <td>0</td>\n",
       "      <td>0</td>\n",
       "      <td>0</td>\n",
       "      <td>0</td>\n",
       "      <td>0</td>\n",
       "      <td>0</td>\n",
       "      <td>...</td>\n",
       "      <td>1</td>\n",
       "      <td>0</td>\n",
       "      <td>0</td>\n",
       "      <td>0</td>\n",
       "      <td>0</td>\n",
       "      <td>0</td>\n",
       "      <td>0</td>\n",
       "      <td>0</td>\n",
       "      <td>0</td>\n",
       "      <td>0</td>\n",
       "    </tr>\n",
       "    <tr>\n",
       "      <th>2</th>\n",
       "      <td>0</td>\n",
       "      <td>0</td>\n",
       "      <td>0</td>\n",
       "      <td>1</td>\n",
       "      <td>0</td>\n",
       "      <td>0</td>\n",
       "      <td>0</td>\n",
       "      <td>0</td>\n",
       "      <td>0</td>\n",
       "      <td>0</td>\n",
       "      <td>...</td>\n",
       "      <td>0</td>\n",
       "      <td>0</td>\n",
       "      <td>0</td>\n",
       "      <td>0</td>\n",
       "      <td>0</td>\n",
       "      <td>0</td>\n",
       "      <td>0</td>\n",
       "      <td>0</td>\n",
       "      <td>0</td>\n",
       "      <td>0</td>\n",
       "    </tr>\n",
       "    <tr>\n",
       "      <th>3</th>\n",
       "      <td>0</td>\n",
       "      <td>1</td>\n",
       "      <td>0</td>\n",
       "      <td>0</td>\n",
       "      <td>0</td>\n",
       "      <td>0</td>\n",
       "      <td>0</td>\n",
       "      <td>0</td>\n",
       "      <td>0</td>\n",
       "      <td>0</td>\n",
       "      <td>...</td>\n",
       "      <td>0</td>\n",
       "      <td>0</td>\n",
       "      <td>0</td>\n",
       "      <td>0</td>\n",
       "      <td>0</td>\n",
       "      <td>0</td>\n",
       "      <td>0</td>\n",
       "      <td>0</td>\n",
       "      <td>0</td>\n",
       "      <td>0</td>\n",
       "    </tr>\n",
       "    <tr>\n",
       "      <th>4</th>\n",
       "      <td>0</td>\n",
       "      <td>0</td>\n",
       "      <td>0</td>\n",
       "      <td>0</td>\n",
       "      <td>0</td>\n",
       "      <td>0</td>\n",
       "      <td>0</td>\n",
       "      <td>0</td>\n",
       "      <td>1</td>\n",
       "      <td>0</td>\n",
       "      <td>...</td>\n",
       "      <td>0</td>\n",
       "      <td>0</td>\n",
       "      <td>0</td>\n",
       "      <td>0</td>\n",
       "      <td>0</td>\n",
       "      <td>0</td>\n",
       "      <td>0</td>\n",
       "      <td>0</td>\n",
       "      <td>0</td>\n",
       "      <td>0</td>\n",
       "    </tr>\n",
       "    <tr>\n",
       "      <th>...</th>\n",
       "      <td>...</td>\n",
       "      <td>...</td>\n",
       "      <td>...</td>\n",
       "      <td>...</td>\n",
       "      <td>...</td>\n",
       "      <td>...</td>\n",
       "      <td>...</td>\n",
       "      <td>...</td>\n",
       "      <td>...</td>\n",
       "      <td>...</td>\n",
       "      <td>...</td>\n",
       "      <td>...</td>\n",
       "      <td>...</td>\n",
       "      <td>...</td>\n",
       "      <td>...</td>\n",
       "      <td>...</td>\n",
       "      <td>...</td>\n",
       "      <td>...</td>\n",
       "      <td>...</td>\n",
       "      <td>...</td>\n",
       "      <td>...</td>\n",
       "    </tr>\n",
       "    <tr>\n",
       "      <th>28435</th>\n",
       "      <td>0</td>\n",
       "      <td>0</td>\n",
       "      <td>0</td>\n",
       "      <td>0</td>\n",
       "      <td>0</td>\n",
       "      <td>0</td>\n",
       "      <td>0</td>\n",
       "      <td>0</td>\n",
       "      <td>0</td>\n",
       "      <td>0</td>\n",
       "      <td>...</td>\n",
       "      <td>0</td>\n",
       "      <td>0</td>\n",
       "      <td>0</td>\n",
       "      <td>0</td>\n",
       "      <td>0</td>\n",
       "      <td>0</td>\n",
       "      <td>0</td>\n",
       "      <td>0</td>\n",
       "      <td>0</td>\n",
       "      <td>1</td>\n",
       "    </tr>\n",
       "    <tr>\n",
       "      <th>28436</th>\n",
       "      <td>0</td>\n",
       "      <td>0</td>\n",
       "      <td>0</td>\n",
       "      <td>0</td>\n",
       "      <td>0</td>\n",
       "      <td>0</td>\n",
       "      <td>0</td>\n",
       "      <td>0</td>\n",
       "      <td>0</td>\n",
       "      <td>0</td>\n",
       "      <td>...</td>\n",
       "      <td>0</td>\n",
       "      <td>0</td>\n",
       "      <td>0</td>\n",
       "      <td>0</td>\n",
       "      <td>0</td>\n",
       "      <td>0</td>\n",
       "      <td>0</td>\n",
       "      <td>0</td>\n",
       "      <td>0</td>\n",
       "      <td>1</td>\n",
       "    </tr>\n",
       "    <tr>\n",
       "      <th>28437</th>\n",
       "      <td>0</td>\n",
       "      <td>0</td>\n",
       "      <td>0</td>\n",
       "      <td>0</td>\n",
       "      <td>0</td>\n",
       "      <td>0</td>\n",
       "      <td>0</td>\n",
       "      <td>0</td>\n",
       "      <td>0</td>\n",
       "      <td>0</td>\n",
       "      <td>...</td>\n",
       "      <td>0</td>\n",
       "      <td>0</td>\n",
       "      <td>0</td>\n",
       "      <td>0</td>\n",
       "      <td>1</td>\n",
       "      <td>0</td>\n",
       "      <td>0</td>\n",
       "      <td>0</td>\n",
       "      <td>0</td>\n",
       "      <td>0</td>\n",
       "    </tr>\n",
       "    <tr>\n",
       "      <th>28438</th>\n",
       "      <td>0</td>\n",
       "      <td>1</td>\n",
       "      <td>0</td>\n",
       "      <td>0</td>\n",
       "      <td>0</td>\n",
       "      <td>0</td>\n",
       "      <td>0</td>\n",
       "      <td>0</td>\n",
       "      <td>0</td>\n",
       "      <td>0</td>\n",
       "      <td>...</td>\n",
       "      <td>0</td>\n",
       "      <td>0</td>\n",
       "      <td>0</td>\n",
       "      <td>0</td>\n",
       "      <td>0</td>\n",
       "      <td>0</td>\n",
       "      <td>0</td>\n",
       "      <td>0</td>\n",
       "      <td>0</td>\n",
       "      <td>0</td>\n",
       "    </tr>\n",
       "    <tr>\n",
       "      <th>28439</th>\n",
       "      <td>0</td>\n",
       "      <td>0</td>\n",
       "      <td>0</td>\n",
       "      <td>0</td>\n",
       "      <td>1</td>\n",
       "      <td>0</td>\n",
       "      <td>0</td>\n",
       "      <td>0</td>\n",
       "      <td>0</td>\n",
       "      <td>0</td>\n",
       "      <td>...</td>\n",
       "      <td>0</td>\n",
       "      <td>0</td>\n",
       "      <td>0</td>\n",
       "      <td>0</td>\n",
       "      <td>0</td>\n",
       "      <td>0</td>\n",
       "      <td>0</td>\n",
       "      <td>0</td>\n",
       "      <td>0</td>\n",
       "      <td>0</td>\n",
       "    </tr>\n",
       "  </tbody>\n",
       "</table>\n",
       "<p>28439 rows × 22 columns</p>\n",
       "</div>"
      ],
      "text/plain": [
       "       pileta  nuevo  amenities  monoamb  aptoprof  contrafrente  SUM  calefa  \\\n",
       "0           0      1          0        0         0             0    0       0   \n",
       "1           0      0          0        0         0             0    0       0   \n",
       "2           0      0          0        1         0             0    0       0   \n",
       "3           0      1          0        0         0             0    0       0   \n",
       "4           0      0          0        0         0             0    0       0   \n",
       "...       ...    ...        ...      ...       ...           ...  ...     ...   \n",
       "28435       0      0          0        0         0             0    0       0   \n",
       "28436       0      0          0        0         0             0    0       0   \n",
       "28437       0      0          0        0         0             0    0       0   \n",
       "28438       0      1          0        0         0             0    0       0   \n",
       "28439       0      0          0        0         1             0    0       0   \n",
       "\n",
       "       terraza  parrilla  ...  lavadero  balcon  gym  jacuzzi  toillette  \\\n",
       "0            0         0  ...         0       0    0        0          0   \n",
       "1            0         0  ...         1       0    0        0          0   \n",
       "2            0         0  ...         0       0    0        0          0   \n",
       "3            0         0  ...         0       0    0        0          0   \n",
       "4            1         0  ...         0       0    0        0          0   \n",
       "...        ...       ...  ...       ...     ...  ...      ...        ...   \n",
       "28435        0         0  ...         0       0    0        0          0   \n",
       "28436        0         0  ...         0       0    0        0          0   \n",
       "28437        0         0  ...         0       0    0        0          1   \n",
       "28438        0         0  ...         0       0    0        0          0   \n",
       "28439        0         0  ...         0       0    0        0          0   \n",
       "\n",
       "       en_suite  baulera  escritorio  al_frente  esq_av  \n",
       "0             0        0           0          0       0  \n",
       "1             0        0           0          0       0  \n",
       "2             0        0           0          0       0  \n",
       "3             0        0           0          0       0  \n",
       "4             0        0           0          0       0  \n",
       "...         ...      ...         ...        ...     ...  \n",
       "28435         0        0           0          0       1  \n",
       "28436         0        0           0          0       1  \n",
       "28437         0        0           0          0       0  \n",
       "28438         0        0           0          0       0  \n",
       "28439         0        0           0          0       0  \n",
       "\n",
       "[28439 rows x 22 columns]"
      ]
     },
     "execution_count": 434,
     "metadata": {},
     "output_type": "execute_result"
    }
   ],
   "source": [
    "#Buscamos en la columna descripción los atributos que puedan tener valor predictivo\n",
    "\n",
    "df_amenities_pattern = '(?P<pileta>pileta|piscina)|(?P<nuevo>estrenar|nuevo)|(?P<amenities>amenities)|(?P<monoamb>monoambiente)|(?P<aptoprof>apto profesional)|(?P<contrafrente>contrafrente)|(?P<SUM>sum|sal[óo]n de usos m[úu]ltiples)|(?P<calefa>calefacci[óo]n)|(?P<terraza>terraza)|(?P<parrilla>parrilla)|(?P<galeria>galer[íi]a)|(?P<jardin_patio>jard[íi]n|patio)|(?P<lavadero>lavadero)|(?P<balcon>balc[óo]n)|(?P<gym>gym|gimnasio)|(?P<jacuzzi>jacuzzi|hidromasaje|hidro)|(?P<toillette>toillette|toilet)|(?P<en_suite>suite)|(?P<baulera>baulera)|(?P<escritorio>escritorio)|(?P<al_frente>al frente|a la calle)|(?P<esq_av>esquina|avenida)'\n",
    "\n",
    "df_amenities = data_bsas[\"description\"].str.extract(df_amenities_pattern, flags=re.IGNORECASE)\n",
    "all_pattern = '.*[^0]'\n",
    "\n",
    "df_amenities = df_amenities.fillna(0)\n",
    "df_amenities = df_amenities.replace(all_pattern, value = 1, regex= True)\n",
    "\n",
    "df_amenities"
   ]
  },
  {
   "cell_type": "code",
   "execution_count": 435,
   "metadata": {},
   "outputs": [
    {
     "data": {
      "text/plain": [
       "pileta           549\n",
       "nuevo           2912\n",
       "amenities        828\n",
       "monoamb         2449\n",
       "aptoprof         973\n",
       "contrafrente    1269\n",
       "SUM              291\n",
       "calefa           174\n",
       "terraza          924\n",
       "parrilla         202\n",
       "galeria          145\n",
       "jardin_patio    1883\n",
       "lavadero         941\n",
       "balcon          4337\n",
       "gym               70\n",
       "jacuzzi           59\n",
       "toillette        957\n",
       "en_suite         843\n",
       "baulera          536\n",
       "escritorio       458\n",
       "al_frente       3218\n",
       "esq_av          2015\n",
       "dtype: int64"
      ]
     },
     "execution_count": 435,
     "metadata": {},
     "output_type": "execute_result"
    }
   ],
   "source": [
    "df_amenities.sum()"
   ]
  },
  {
   "cell_type": "code",
   "execution_count": 436,
   "metadata": {},
   "outputs": [
    {
     "name": "stdout",
     "output_type": "stream",
     "text": [
      "<class 'pandas.core.frame.DataFrame'>\n",
      "Int64Index: 28439 entries, 0 to 28439\n",
      "Data columns (total 11 columns):\n",
      " #   Column                 Non-Null Count  Dtype  \n",
      "---  ------                 --------------  -----  \n",
      " 0   property_type          28439 non-null  object \n",
      " 1   lat                    21700 non-null  float64\n",
      " 2   lon                    21700 non-null  float64\n",
      " 3   price_aprox_usd        28439 non-null  float64\n",
      " 4   surface_covered_in_m2  27325 non-null  float64\n",
      " 5   rooms                  14427 non-null  float64\n",
      " 6   description            28439 non-null  object \n",
      " 7   title                  28439 non-null  object \n",
      " 8   surface_total_fixed    28439 non-null  float64\n",
      " 9   precio_per_m2          28439 non-null  float64\n",
      " 10  place_category         28439 non-null  object \n",
      "dtypes: float64(7), object(4)\n",
      "memory usage: 2.6+ MB\n"
     ]
    }
   ],
   "source": [
    "data_bsas.info()"
   ]
  },
  {
   "cell_type": "markdown",
   "metadata": {},
   "source": [
    "Se analizaron las columnas seleccionadas en el TP1 y se realizó el calculo de dummies y la eliminación de los NA's de las columnas ```lat, lon, rooms, surface_covered_in_m2```. Se tomó esta decisión ya que se evaluaron estratégias de imputación en el TP1 y en esta instancia solo se trabajará con registros completos."
   ]
  },
  {
   "cell_type": "code",
   "execution_count": 437,
   "metadata": {},
   "outputs": [
    {
     "data": {
      "text/plain": [
       "property_type            0.00\n",
       "price_aprox_usd          0.00\n",
       "description              0.00\n",
       "title                    0.00\n",
       "surface_total_fixed      0.00\n",
       "precio_per_m2            0.00\n",
       "place_category           0.00\n",
       "surface_covered_in_m2    3.92\n",
       "lat                     23.70\n",
       "lon                     23.70\n",
       "rooms                   49.27\n",
       "dtype: float64"
      ]
     },
     "execution_count": 437,
     "metadata": {},
     "output_type": "execute_result"
    }
   ],
   "source": [
    "(data_bsas.isna().sum()/data_bsas.shape[0]*100).sort_values()"
   ]
  },
  {
   "cell_type": "code",
   "execution_count": 438,
   "metadata": {},
   "outputs": [
    {
     "name": "stdout",
     "output_type": "stream",
     "text": [
      "price_aprox_usd          0.00\n",
      "surface_total_fixed      0.00\n",
      "precio_per_m2            0.00\n",
      "surface_covered_in_m2    3.92\n",
      "lat                     23.70\n",
      "lon                     23.70\n",
      "dtype: float64\n"
     ]
    }
   ],
   "source": [
    "dumm1 = pd.get_dummies(data_bsas[\"place_category\"],drop_first=True).reset_index(drop= True)\n",
    "dumm2 = pd.get_dummies(data_bsas[\"property_type\"],drop_first=True).reset_index(drop= True)\n",
    "data_bsas = data_bsas.drop(['rooms','property_type' ,'description', 'title', 'place_category'], axis=1)\n",
    "print((data_bsas.isna().sum()/data_bsas.shape[0]*100).sort_values())\n",
    "\n"
   ]
  },
  {
   "cell_type": "markdown",
   "metadata": {},
   "source": [
    "El dataset final posee 13 columnas incluyendo las dummies Q2...Q4 (categorización de barrios según el cuartil de precios) y la columna de tipo de propiedad."
   ]
  },
  {
   "cell_type": "code",
   "execution_count": 439,
   "metadata": {},
   "outputs": [
    {
     "name": "stdout",
     "output_type": "stream",
     "text": [
      "lat                     0.00\n",
      "lon                     0.00\n",
      "price_aprox_usd         0.00\n",
      "surface_covered_in_m2   0.00\n",
      "surface_total_fixed     0.00\n",
      "precio_per_m2           0.00\n",
      "Q2                      0.00\n",
      "Q3                      0.00\n",
      "Q4                      0.00\n",
      "Q5                      0.00\n",
      "apartment               0.00\n",
      "house                   0.00\n",
      "store                   0.00\n",
      "dtype: float64\n"
     ]
    }
   ],
   "source": [
    "data_bsas = pd.concat([data_bsas, dumm1, dumm2], axis=1)\n",
    "data_bsas = data_bsas.dropna().reset_index(drop=True)\n",
    "print((data_bsas.isna().sum()/data_bsas.shape[0]*100).sort_values())"
   ]
  },
  {
   "cell_type": "code",
   "execution_count": 440,
   "metadata": {},
   "outputs": [
    {
     "data": {
      "text/html": [
       "<div>\n",
       "<style scoped>\n",
       "    .dataframe tbody tr th:only-of-type {\n",
       "        vertical-align: middle;\n",
       "    }\n",
       "\n",
       "    .dataframe tbody tr th {\n",
       "        vertical-align: top;\n",
       "    }\n",
       "\n",
       "    .dataframe thead th {\n",
       "        text-align: right;\n",
       "    }\n",
       "</style>\n",
       "<table border=\"1\" class=\"dataframe\">\n",
       "  <thead>\n",
       "    <tr style=\"text-align: right;\">\n",
       "      <th></th>\n",
       "      <th>lat</th>\n",
       "      <th>lon</th>\n",
       "      <th>price_aprox_usd</th>\n",
       "      <th>surface_covered_in_m2</th>\n",
       "      <th>surface_total_fixed</th>\n",
       "      <th>precio_per_m2</th>\n",
       "      <th>Q2</th>\n",
       "      <th>Q3</th>\n",
       "      <th>Q4</th>\n",
       "      <th>Q5</th>\n",
       "      <th>apartment</th>\n",
       "      <th>house</th>\n",
       "      <th>store</th>\n",
       "    </tr>\n",
       "  </thead>\n",
       "  <tbody>\n",
       "    <tr>\n",
       "      <th>0</th>\n",
       "      <td>-34.66</td>\n",
       "      <td>-58.51</td>\n",
       "      <td>62000.00</td>\n",
       "      <td>40.00</td>\n",
       "      <td>55.00</td>\n",
       "      <td>1127.27</td>\n",
       "      <td>0.00</td>\n",
       "      <td>0.00</td>\n",
       "      <td>0.00</td>\n",
       "      <td>0.00</td>\n",
       "      <td>0.00</td>\n",
       "      <td>0.00</td>\n",
       "      <td>0.00</td>\n",
       "    </tr>\n",
       "    <tr>\n",
       "      <th>1</th>\n",
       "      <td>-34.65</td>\n",
       "      <td>-58.52</td>\n",
       "      <td>72000.00</td>\n",
       "      <td>55.00</td>\n",
       "      <td>55.00</td>\n",
       "      <td>1309.09</td>\n",
       "      <td>0.00</td>\n",
       "      <td>0.00</td>\n",
       "      <td>0.00</td>\n",
       "      <td>0.00</td>\n",
       "      <td>1.00</td>\n",
       "      <td>0.00</td>\n",
       "      <td>0.00</td>\n",
       "    </tr>\n",
       "    <tr>\n",
       "      <th>2</th>\n",
       "      <td>-34.56</td>\n",
       "      <td>-58.44</td>\n",
       "      <td>138000.00</td>\n",
       "      <td>40.00</td>\n",
       "      <td>45.00</td>\n",
       "      <td>3066.67</td>\n",
       "      <td>0.00</td>\n",
       "      <td>0.00</td>\n",
       "      <td>1.00</td>\n",
       "      <td>0.00</td>\n",
       "      <td>1.00</td>\n",
       "      <td>0.00</td>\n",
       "      <td>0.00</td>\n",
       "    </tr>\n",
       "    <tr>\n",
       "      <th>3</th>\n",
       "      <td>-34.56</td>\n",
       "      <td>-58.44</td>\n",
       "      <td>195000.00</td>\n",
       "      <td>60.00</td>\n",
       "      <td>65.00</td>\n",
       "      <td>3000.00</td>\n",
       "      <td>0.00</td>\n",
       "      <td>0.00</td>\n",
       "      <td>1.00</td>\n",
       "      <td>0.00</td>\n",
       "      <td>1.00</td>\n",
       "      <td>0.00</td>\n",
       "      <td>0.00</td>\n",
       "    </tr>\n",
       "    <tr>\n",
       "      <th>4</th>\n",
       "      <td>-34.65</td>\n",
       "      <td>-58.50</td>\n",
       "      <td>239000.00</td>\n",
       "      <td>98.00</td>\n",
       "      <td>140.00</td>\n",
       "      <td>1707.14</td>\n",
       "      <td>0.00</td>\n",
       "      <td>0.00</td>\n",
       "      <td>0.00</td>\n",
       "      <td>0.00</td>\n",
       "      <td>0.00</td>\n",
       "      <td>0.00</td>\n",
       "      <td>0.00</td>\n",
       "    </tr>\n",
       "    <tr>\n",
       "      <th>...</th>\n",
       "      <td>...</td>\n",
       "      <td>...</td>\n",
       "      <td>...</td>\n",
       "      <td>...</td>\n",
       "      <td>...</td>\n",
       "      <td>...</td>\n",
       "      <td>...</td>\n",
       "      <td>...</td>\n",
       "      <td>...</td>\n",
       "      <td>...</td>\n",
       "      <td>...</td>\n",
       "      <td>...</td>\n",
       "      <td>...</td>\n",
       "    </tr>\n",
       "    <tr>\n",
       "      <th>21032</th>\n",
       "      <td>-34.63</td>\n",
       "      <td>-58.46</td>\n",
       "      <td>120000.00</td>\n",
       "      <td>72.00</td>\n",
       "      <td>78.97</td>\n",
       "      <td>1519.57</td>\n",
       "      <td>1.00</td>\n",
       "      <td>0.00</td>\n",
       "      <td>0.00</td>\n",
       "      <td>0.00</td>\n",
       "      <td>1.00</td>\n",
       "      <td>0.00</td>\n",
       "      <td>0.00</td>\n",
       "    </tr>\n",
       "    <tr>\n",
       "      <th>21033</th>\n",
       "      <td>-34.62</td>\n",
       "      <td>-58.46</td>\n",
       "      <td>74500.00</td>\n",
       "      <td>33.00</td>\n",
       "      <td>36.19</td>\n",
       "      <td>2058.33</td>\n",
       "      <td>1.00</td>\n",
       "      <td>0.00</td>\n",
       "      <td>0.00</td>\n",
       "      <td>0.00</td>\n",
       "      <td>1.00</td>\n",
       "      <td>0.00</td>\n",
       "      <td>0.00</td>\n",
       "    </tr>\n",
       "    <tr>\n",
       "      <th>21034</th>\n",
       "      <td>-34.60</td>\n",
       "      <td>-58.40</td>\n",
       "      <td>165000.00</td>\n",
       "      <td>65.00</td>\n",
       "      <td>91.00</td>\n",
       "      <td>1813.19</td>\n",
       "      <td>0.00</td>\n",
       "      <td>0.00</td>\n",
       "      <td>0.00</td>\n",
       "      <td>1.00</td>\n",
       "      <td>1.00</td>\n",
       "      <td>0.00</td>\n",
       "      <td>0.00</td>\n",
       "    </tr>\n",
       "    <tr>\n",
       "      <th>21035</th>\n",
       "      <td>-34.59</td>\n",
       "      <td>-58.40</td>\n",
       "      <td>165000.00</td>\n",
       "      <td>39.00</td>\n",
       "      <td>44.00</td>\n",
       "      <td>3750.00</td>\n",
       "      <td>0.00</td>\n",
       "      <td>1.00</td>\n",
       "      <td>0.00</td>\n",
       "      <td>0.00</td>\n",
       "      <td>1.00</td>\n",
       "      <td>0.00</td>\n",
       "      <td>0.00</td>\n",
       "    </tr>\n",
       "    <tr>\n",
       "      <th>21036</th>\n",
       "      <td>-34.57</td>\n",
       "      <td>-58.48</td>\n",
       "      <td>131500.00</td>\n",
       "      <td>39.00</td>\n",
       "      <td>46.00</td>\n",
       "      <td>2858.70</td>\n",
       "      <td>0.00</td>\n",
       "      <td>0.00</td>\n",
       "      <td>0.00</td>\n",
       "      <td>0.00</td>\n",
       "      <td>1.00</td>\n",
       "      <td>0.00</td>\n",
       "      <td>0.00</td>\n",
       "    </tr>\n",
       "  </tbody>\n",
       "</table>\n",
       "<p>21037 rows × 13 columns</p>\n",
       "</div>"
      ],
      "text/plain": [
       "         lat    lon  price_aprox_usd  surface_covered_in_m2  \\\n",
       "0     -34.66 -58.51         62000.00                  40.00   \n",
       "1     -34.65 -58.52         72000.00                  55.00   \n",
       "2     -34.56 -58.44        138000.00                  40.00   \n",
       "3     -34.56 -58.44        195000.00                  60.00   \n",
       "4     -34.65 -58.50        239000.00                  98.00   \n",
       "...      ...    ...              ...                    ...   \n",
       "21032 -34.63 -58.46        120000.00                  72.00   \n",
       "21033 -34.62 -58.46         74500.00                  33.00   \n",
       "21034 -34.60 -58.40        165000.00                  65.00   \n",
       "21035 -34.59 -58.40        165000.00                  39.00   \n",
       "21036 -34.57 -58.48        131500.00                  39.00   \n",
       "\n",
       "       surface_total_fixed  precio_per_m2   Q2   Q3   Q4   Q5  apartment  \\\n",
       "0                    55.00        1127.27 0.00 0.00 0.00 0.00       0.00   \n",
       "1                    55.00        1309.09 0.00 0.00 0.00 0.00       1.00   \n",
       "2                    45.00        3066.67 0.00 0.00 1.00 0.00       1.00   \n",
       "3                    65.00        3000.00 0.00 0.00 1.00 0.00       1.00   \n",
       "4                   140.00        1707.14 0.00 0.00 0.00 0.00       0.00   \n",
       "...                    ...            ...  ...  ...  ...  ...        ...   \n",
       "21032                78.97        1519.57 1.00 0.00 0.00 0.00       1.00   \n",
       "21033                36.19        2058.33 1.00 0.00 0.00 0.00       1.00   \n",
       "21034                91.00        1813.19 0.00 0.00 0.00 1.00       1.00   \n",
       "21035                44.00        3750.00 0.00 1.00 0.00 0.00       1.00   \n",
       "21036                46.00        2858.70 0.00 0.00 0.00 0.00       1.00   \n",
       "\n",
       "       house  store  \n",
       "0       0.00   0.00  \n",
       "1       0.00   0.00  \n",
       "2       0.00   0.00  \n",
       "3       0.00   0.00  \n",
       "4       0.00   0.00  \n",
       "...      ...    ...  \n",
       "21032   0.00   0.00  \n",
       "21033   0.00   0.00  \n",
       "21034   0.00   0.00  \n",
       "21035   0.00   0.00  \n",
       "21036   0.00   0.00  \n",
       "\n",
       "[21037 rows x 13 columns]"
      ]
     },
     "execution_count": 440,
     "metadata": {},
     "output_type": "execute_result"
    }
   ],
   "source": [
    "data_bsas"
   ]
  },
  {
   "cell_type": "markdown",
   "metadata": {},
   "source": [
    "### Evaluación de Modelos"
   ]
  },
  {
   "cell_type": "markdown",
   "metadata": {},
   "source": [
    "Para la Evaluación de los modelos y excenarios se construyeron 2 funciones de evaluación. Las metricas elegidas para la evaluación son el ```MAE y R2 Ajustado``` sin embargo tambien se calculan las metricas ```R2 y RMSE``` para su análisis."
   ]
  },
  {
   "cell_type": "markdown",
   "metadata": {},
   "source": [
    "La función de evaluación hacer los calculos de las metricas en TEST y TRAIN y a su vez entrega dos gráficos para analizar los residuos en la regresióngráfico para ver \n",
    "1. Un histogramas de los residuos, esto permite ver la distribución, asimetria y diferencias entre test y train.\n",
    "2. Un diagrama de dispersión de los y predichos en test y train."
   ]
  },
  {
   "cell_type": "code",
   "execution_count": 453,
   "metadata": {},
   "outputs": [],
   "source": [
    "def model_ev(X_train, X_test, y_train, y_test, model):\n",
    "  #tabla_errores = []\n",
    "  model.fit(X_train, y_train)\n",
    "  y_train_pred = model.predict(X_train) \n",
    "  y_test_pred = model.predict(X_test)\n",
    "\n",
    "  \n",
    "  # Calculo de RMSE \n",
    "  rmse_train = np.sqrt(mean_squared_error(y_train,y_train_pred))\n",
    "  rmse_test = np.sqrt(mean_squared_error(y_test, y_test_pred))\n",
    "  print(f'RMSE Train: {rmse_train}\\n')\n",
    "  print(f'RMSE Test: {rmse_test}\\n')\n",
    "  \n",
    "  # Calculo de mae \n",
    "  mae_train = mean_absolute_error(y_train,y_train_pred)\n",
    "  mae_test = mean_absolute_error(y_test, y_test_pred)\n",
    "  print(f'MAE Train: {mae_train}\\n')\n",
    "  print(f'MAE Test: {mae_test}\\n')\n",
    "\n",
    "  # Calculo de R cuadrado y R cuadrado ajustado del conjunto TRAIN\n",
    "  SS_Residual_a = sum((y_train - y_train_pred)**2)       \n",
    "  SS_Total_a = sum((y_train-np.mean(y_train))**2)     \n",
    "  r_squared_tra = 1 - (float(SS_Residual_a))/SS_Total_a\n",
    "  adjusted_r_squared_tra = 1 - (1-r_squared_tra)*(len(y)-1)/(len(y)-X.shape[1]-1)\n",
    "  print(f\"R^2(train)= {r_squared_tra}\")\n",
    "  print(f\"R^2_ajt(train)= {adjusted_r_squared_tra}\\n\")\n",
    "  \n",
    "  # Calculo de R cuadrado y R cuadrado ajustado del conjunto TEST\n",
    "  SS_Residual_b = sum((y_test - y_test_pred)**2)       \n",
    "  SS_Total_b = sum((y_test-np.mean(y_test))**2)     \n",
    "  r_squared_te = 1 - (float(SS_Residual_b))/SS_Total_b\n",
    "  adjusted_r_squared_te = 1 - (1-r_squared_te)*(len(y)-1)/(len(y)-X.shape[1]-1)\n",
    "  print(f\"R^2(test)= {r_squared_te}\") \n",
    "  print(f\"R^2_ajt(test)= {adjusted_r_squared_te}\\n\")\n",
    "  \n",
    "  #Histograma de los errores (y - y_predicho) para cada conjunto:\n",
    "  plt.figure(figsize = (12,4))\n",
    "  plt.subplot(1,2,1)\n",
    "  sns.distplot(y_train - y_train_pred, bins = 20, label = 'train')\n",
    "  sns.distplot(y_test - y_test_pred, bins = 20, label = 'test')\n",
    "  plt.xlabel('errores')\n",
    "  plt.legend()\n",
    "\n",
    "  #Scatter de y vs y-predicho para lo testeado:\n",
    "  ax = plt.subplot(1,2,2)\n",
    "  ax.scatter(y_test,y_test_pred, s =2)\n",
    "  return {'MAE TRAIN':mae_train, 'MAE TEST':mae_test, 'R^2_ajt(train)':adjusted_r_squared_tra, 'R^2_ajt(test)': adjusted_r_squared_te}"
   ]
  },
  {
   "cell_type": "markdown",
   "metadata": {},
   "source": [
    "De manera similar se confeccionó una función de evaluación usando CV para conocer mejor como se comporta el modelo usando CV."
   ]
  },
  {
   "cell_type": "code",
   "execution_count": 451,
   "metadata": {},
   "outputs": [],
   "source": [
    "def model_ev_cv(model, descr, X_, y_, folds): \n",
    "    resultado = cross_validate(model,\n",
    "                            X_,\n",
    "                            y_, \n",
    "                            cv=folds, \n",
    "                            scoring = ('neg_root_mean_squared_error','r2', 'neg_mean_absolute_error'),\n",
    "                            return_train_score= True \n",
    "                            ) \n",
    "    mae_test = np.mean(resultado['test_neg_mean_absolute_error']*-1)\n",
    "    mae_train = np.mean(resultado['train_neg_mean_absolute_error']*-1)\n",
    "    return print(f'{descr} \\n MAE TEST: {mae_test}, MAE TRAIN:  {mae_train}')"
   ]
  },
  {
   "cell_type": "markdown",
   "metadata": {},
   "source": [
    "#### Escenario 1 - Datos crudos con outliers"
   ]
  },
  {
   "cell_type": "markdown",
   "metadata": {},
   "source": [
    "Como se puede observar en las siguientes graficas tanto la columna target (precio por metro cuadrado) como las columnas predictoras (p. ej: superficie total) posee outliers."
   ]
  },
  {
   "cell_type": "code",
   "execution_count": 415,
   "metadata": {},
   "outputs": [],
   "source": [
    "def histo_boxplot(df, col:str):\n",
    "    f, (ax_box, ax_hist) = plt.subplots(2, sharex=True, gridspec_kw={\"height_ratios\": (.15, .85)})\n",
    "    \n",
    "    # assigning a graph to each ax\n",
    "    sns.boxplot(data = df, x= col, ax=ax_box)\n",
    "    sns.histplot(df[col], ax=ax_hist)\n",
    "    \n",
    "    # Remove x axis name for the boxplot\n",
    "    ax_box.set(xlabel='')\n",
    "    plt.gcf().set_size_inches(15, 8)\n",
    "    plt.show()"
   ]
  },
  {
   "cell_type": "code",
   "execution_count": 416,
   "metadata": {},
   "outputs": [
    {
     "data": {
      "image/png": "[encoded data removed]",
      "text/plain": [
       "<Figure size 1080x576 with 2 Axes>"
      ]
     },
     "metadata": {
      "needs_background": "light"
     },
     "output_type": "display_data"
    }
   ],
   "source": [
    "histo_boxplot(data_bsas, 'precio_per_m2')"
   ]
  },
  {
   "cell_type": "code",
   "execution_count": 417,
   "metadata": {},
   "outputs": [
    {
     "data": {
      "image/png": "[encoded data removed]",
      "text/plain": [
       "<Figure size 1080x576 with 2 Axes>"
      ]
     },
     "metadata": {
      "needs_background": "light"
     },
     "output_type": "display_data"
    }
   ],
   "source": [
    "histo_boxplot(data_bsas, 'surface_total_fixed')"
   ]
  },
  {
   "cell_type": "code",
   "execution_count": 442,
   "metadata": {},
   "outputs": [
    {
     "data": {
      "text/html": [
       "<div>\n",
       "<style scoped>\n",
       "    .dataframe tbody tr th:only-of-type {\n",
       "        vertical-align: middle;\n",
       "    }\n",
       "\n",
       "    .dataframe tbody tr th {\n",
       "        vertical-align: top;\n",
       "    }\n",
       "\n",
       "    .dataframe thead th {\n",
       "        text-align: right;\n",
       "    }\n",
       "</style>\n",
       "<table border=\"1\" class=\"dataframe\">\n",
       "  <thead>\n",
       "    <tr style=\"text-align: right;\">\n",
       "      <th></th>\n",
       "      <th>lat</th>\n",
       "      <th>lon</th>\n",
       "      <th>price_aprox_usd</th>\n",
       "      <th>surface_covered_in_m2</th>\n",
       "      <th>surface_total_fixed</th>\n",
       "      <th>precio_per_m2</th>\n",
       "      <th>Q2</th>\n",
       "      <th>Q3</th>\n",
       "      <th>Q4</th>\n",
       "      <th>Q5</th>\n",
       "      <th>apartment</th>\n",
       "      <th>house</th>\n",
       "      <th>store</th>\n",
       "    </tr>\n",
       "  </thead>\n",
       "  <tbody>\n",
       "    <tr>\n",
       "      <th>count</th>\n",
       "      <td>21037.00</td>\n",
       "      <td>21037.00</td>\n",
       "      <td>21037.00</td>\n",
       "      <td>21037.00</td>\n",
       "      <td>21037.00</td>\n",
       "      <td>21037.00</td>\n",
       "      <td>21037.00</td>\n",
       "      <td>21037.00</td>\n",
       "      <td>21037.00</td>\n",
       "      <td>21037.00</td>\n",
       "      <td>21037.00</td>\n",
       "      <td>21037.00</td>\n",
       "      <td>21037.00</td>\n",
       "    </tr>\n",
       "    <tr>\n",
       "      <th>mean</th>\n",
       "      <td>-34.60</td>\n",
       "      <td>-58.44</td>\n",
       "      <td>258333.53</td>\n",
       "      <td>102.11</td>\n",
       "      <td>118.45</td>\n",
       "      <td>3102.48</td>\n",
       "      <td>0.21</td>\n",
       "      <td>0.20</td>\n",
       "      <td>0.19</td>\n",
       "      <td>0.18</td>\n",
       "      <td>0.83</td>\n",
       "      <td>0.06</td>\n",
       "      <td>0.04</td>\n",
       "    </tr>\n",
       "    <tr>\n",
       "      <th>std</th>\n",
       "      <td>0.03</td>\n",
       "      <td>0.04</td>\n",
       "      <td>362629.65</td>\n",
       "      <td>1305.02</td>\n",
       "      <td>1432.00</td>\n",
       "      <td>17973.55</td>\n",
       "      <td>0.41</td>\n",
       "      <td>0.40</td>\n",
       "      <td>0.40</td>\n",
       "      <td>0.39</td>\n",
       "      <td>0.38</td>\n",
       "      <td>0.23</td>\n",
       "      <td>0.20</td>\n",
       "    </tr>\n",
       "    <tr>\n",
       "      <th>min</th>\n",
       "      <td>-34.70</td>\n",
       "      <td>-58.54</td>\n",
       "      <td>5103.61</td>\n",
       "      <td>0.00</td>\n",
       "      <td>1.10</td>\n",
       "      <td>2.93</td>\n",
       "      <td>0.00</td>\n",
       "      <td>0.00</td>\n",
       "      <td>0.00</td>\n",
       "      <td>0.00</td>\n",
       "      <td>0.00</td>\n",
       "      <td>0.00</td>\n",
       "      <td>0.00</td>\n",
       "    </tr>\n",
       "    <tr>\n",
       "      <th>5%</th>\n",
       "      <td>-34.64</td>\n",
       "      <td>-58.50</td>\n",
       "      <td>69900.00</td>\n",
       "      <td>27.00</td>\n",
       "      <td>30.00</td>\n",
       "      <td>1139.68</td>\n",
       "      <td>0.00</td>\n",
       "      <td>0.00</td>\n",
       "      <td>0.00</td>\n",
       "      <td>0.00</td>\n",
       "      <td>0.00</td>\n",
       "      <td>0.00</td>\n",
       "      <td>0.00</td>\n",
       "    </tr>\n",
       "    <tr>\n",
       "      <th>10%</th>\n",
       "      <td>-34.63</td>\n",
       "      <td>-58.49</td>\n",
       "      <td>79000.00</td>\n",
       "      <td>31.00</td>\n",
       "      <td>34.00</td>\n",
       "      <td>1428.03</td>\n",
       "      <td>0.00</td>\n",
       "      <td>0.00</td>\n",
       "      <td>0.00</td>\n",
       "      <td>0.00</td>\n",
       "      <td>0.00</td>\n",
       "      <td>0.00</td>\n",
       "      <td>0.00</td>\n",
       "    </tr>\n",
       "    <tr>\n",
       "      <th>25%</th>\n",
       "      <td>-34.62</td>\n",
       "      <td>-58.46</td>\n",
       "      <td>104000.00</td>\n",
       "      <td>39.00</td>\n",
       "      <td>43.87</td>\n",
       "      <td>1875.00</td>\n",
       "      <td>0.00</td>\n",
       "      <td>0.00</td>\n",
       "      <td>0.00</td>\n",
       "      <td>0.00</td>\n",
       "      <td>1.00</td>\n",
       "      <td>0.00</td>\n",
       "      <td>0.00</td>\n",
       "    </tr>\n",
       "    <tr>\n",
       "      <th>50%</th>\n",
       "      <td>-34.60</td>\n",
       "      <td>-58.44</td>\n",
       "      <td>155000.00</td>\n",
       "      <td>58.00</td>\n",
       "      <td>66.00</td>\n",
       "      <td>2341.46</td>\n",
       "      <td>0.00</td>\n",
       "      <td>0.00</td>\n",
       "      <td>0.00</td>\n",
       "      <td>0.00</td>\n",
       "      <td>1.00</td>\n",
       "      <td>0.00</td>\n",
       "      <td>0.00</td>\n",
       "    </tr>\n",
       "    <tr>\n",
       "      <th>75%</th>\n",
       "      <td>-34.58</td>\n",
       "      <td>-58.40</td>\n",
       "      <td>270000.00</td>\n",
       "      <td>100.00</td>\n",
       "      <td>115.00</td>\n",
       "      <td>2916.67</td>\n",
       "      <td>0.00</td>\n",
       "      <td>0.00</td>\n",
       "      <td>0.00</td>\n",
       "      <td>0.00</td>\n",
       "      <td>1.00</td>\n",
       "      <td>0.00</td>\n",
       "      <td>0.00</td>\n",
       "    </tr>\n",
       "    <tr>\n",
       "      <th>90%</th>\n",
       "      <td>-34.56</td>\n",
       "      <td>-58.38</td>\n",
       "      <td>500000.00</td>\n",
       "      <td>175.00</td>\n",
       "      <td>207.00</td>\n",
       "      <td>3883.36</td>\n",
       "      <td>1.00</td>\n",
       "      <td>1.00</td>\n",
       "      <td>1.00</td>\n",
       "      <td>1.00</td>\n",
       "      <td>1.00</td>\n",
       "      <td>0.00</td>\n",
       "      <td>0.00</td>\n",
       "    </tr>\n",
       "    <tr>\n",
       "      <th>95%</th>\n",
       "      <td>-34.56</td>\n",
       "      <td>-58.37</td>\n",
       "      <td>750000.00</td>\n",
       "      <td>247.00</td>\n",
       "      <td>298.00</td>\n",
       "      <td>5185.88</td>\n",
       "      <td>1.00</td>\n",
       "      <td>1.00</td>\n",
       "      <td>1.00</td>\n",
       "      <td>1.00</td>\n",
       "      <td>1.00</td>\n",
       "      <td>1.00</td>\n",
       "      <td>0.00</td>\n",
       "    </tr>\n",
       "    <tr>\n",
       "      <th>max</th>\n",
       "      <td>-34.53</td>\n",
       "      <td>-58.35</td>\n",
       "      <td>8500000.00</td>\n",
       "      <td>187000.00</td>\n",
       "      <td>205101.60</td>\n",
       "      <td>2370532.46</td>\n",
       "      <td>1.00</td>\n",
       "      <td>1.00</td>\n",
       "      <td>1.00</td>\n",
       "      <td>1.00</td>\n",
       "      <td>1.00</td>\n",
       "      <td>1.00</td>\n",
       "      <td>1.00</td>\n",
       "    </tr>\n",
       "  </tbody>\n",
       "</table>\n",
       "</div>"
      ],
      "text/plain": [
       "           lat      lon  price_aprox_usd  surface_covered_in_m2  \\\n",
       "count 21037.00 21037.00         21037.00               21037.00   \n",
       "mean    -34.60   -58.44        258333.53                 102.11   \n",
       "std       0.03     0.04        362629.65                1305.02   \n",
       "min     -34.70   -58.54          5103.61                   0.00   \n",
       "5%      -34.64   -58.50         69900.00                  27.00   \n",
       "10%     -34.63   -58.49         79000.00                  31.00   \n",
       "25%     -34.62   -58.46        104000.00                  39.00   \n",
       "50%     -34.60   -58.44        155000.00                  58.00   \n",
       "75%     -34.58   -58.40        270000.00                 100.00   \n",
       "90%     -34.56   -58.38        500000.00                 175.00   \n",
       "95%     -34.56   -58.37        750000.00                 247.00   \n",
       "max     -34.53   -58.35       8500000.00              187000.00   \n",
       "\n",
       "       surface_total_fixed  precio_per_m2       Q2       Q3       Q4       Q5  \\\n",
       "count             21037.00       21037.00 21037.00 21037.00 21037.00 21037.00   \n",
       "mean                118.45        3102.48     0.21     0.20     0.19     0.18   \n",
       "std                1432.00       17973.55     0.41     0.40     0.40     0.39   \n",
       "min                   1.10           2.93     0.00     0.00     0.00     0.00   \n",
       "5%                   30.00        1139.68     0.00     0.00     0.00     0.00   \n",
       "10%                  34.00        1428.03     0.00     0.00     0.00     0.00   \n",
       "25%                  43.87        1875.00     0.00     0.00     0.00     0.00   \n",
       "50%                  66.00        2341.46     0.00     0.00     0.00     0.00   \n",
       "75%                 115.00        2916.67     0.00     0.00     0.00     0.00   \n",
       "90%                 207.00        3883.36     1.00     1.00     1.00     1.00   \n",
       "95%                 298.00        5185.88     1.00     1.00     1.00     1.00   \n",
       "max              205101.60     2370532.46     1.00     1.00     1.00     1.00   \n",
       "\n",
       "       apartment    house    store  \n",
       "count   21037.00 21037.00 21037.00  \n",
       "mean        0.83     0.06     0.04  \n",
       "std         0.38     0.23     0.20  \n",
       "min         0.00     0.00     0.00  \n",
       "5%          0.00     0.00     0.00  \n",
       "10%         0.00     0.00     0.00  \n",
       "25%         1.00     0.00     0.00  \n",
       "50%         1.00     0.00     0.00  \n",
       "75%         1.00     0.00     0.00  \n",
       "90%         1.00     0.00     0.00  \n",
       "95%         1.00     1.00     0.00  \n",
       "max         1.00     1.00     1.00  "
      ]
     },
     "execution_count": 442,
     "metadata": {},
     "output_type": "execute_result"
    }
   ],
   "source": [
    "data_bsas.describe(percentiles=[.05,.10,.25,.5,.75,.90,.95])"
   ]
  },
  {
   "cell_type": "code",
   "execution_count": 443,
   "metadata": {},
   "outputs": [],
   "source": [
    "X = data_bsas.drop(['price_aprox_usd','precio_per_m2'],axis=1)\n",
    "y = data_bsas['precio_per_m2']"
   ]
  },
  {
   "cell_type": "code",
   "execution_count": 444,
   "metadata": {},
   "outputs": [],
   "source": [
    "X_train, X_test, y_train, y_test = train_test_split(X, y, test_size=0.3, random_state=42)"
   ]
  },
  {
   "cell_type": "code",
   "execution_count": 445,
   "metadata": {},
   "outputs": [],
   "source": [
    "linreg = LinearRegression()\n",
    "modelLreg = linreg.fit(X_train, y_train)"
   ]
  },
  {
   "cell_type": "code",
   "execution_count": 446,
   "metadata": {},
   "outputs": [
    {
     "data": {
      "text/plain": [
       "array([-4.25598655e+03,  3.88791464e+03,  4.60521143e+00, -4.24513999e+00,\n",
       "        3.73841856e+02,  5.07622048e+02,  1.59546813e+03,  2.48349412e+03,\n",
       "       -3.65823276e+02,  8.00136288e+02, -5.17815139e+02])"
      ]
     },
     "execution_count": 446,
     "metadata": {},
     "output_type": "execute_result"
    }
   ],
   "source": [
    "linreg.coef_"
   ]
  },
  {
   "cell_type": "code",
   "execution_count": 447,
   "metadata": {},
   "outputs": [
    {
     "data": {
      "text/plain": [
       "82462.23217792455"
      ]
     },
     "execution_count": 447,
     "metadata": {},
     "output_type": "execute_result"
    }
   ],
   "source": [
    "linreg.intercept_"
   ]
  },
  {
   "cell_type": "markdown",
   "metadata": {},
   "source": [
    "El modelo resultante en el primer escenario resulto tener un R^2 ajustado extremadamente bajo, esto indica que muy poca variabilidad de la variable target es predicha por el modelo. Los valores de error absoluto MAE son del orden de 1430 uds/m^2. \n",
    "Los graficos de evaluacion muestran que los errores no tienen valores centrados en cero el grafico de disperción de los yreal con los ypred muestran que el modelo esta siendo afectado por los outliers del precio por metro cuadrado."
   ]
  },
  {
   "cell_type": "code",
   "execution_count": 455,
   "metadata": {},
   "outputs": [
    {
     "name": "stdout",
     "output_type": "stream",
     "text": [
      "RMSE Train: 21006.263091471814\n",
      "\n",
      "RMSE Test: 6675.700125475052\n",
      "\n",
      "MAE Train: 1647.0473327169839\n",
      "\n",
      "MAE Test: 1430.2027629171052\n",
      "\n",
      "R^2(train)= 0.0019692108778800455\n",
      "R^2_ajt(train)= 0.0014470544602654956\n",
      "\n",
      "R^2(test)= 0.013164923929479544\n",
      "R^2_ajt(test)= 0.012648624959835097\n",
      "\n"
     ]
    },
    {
     "data": {
      "image/png": "[encoded data removed]",
      "text/plain": [
       "<Figure size 864x288 with 2 Axes>"
      ]
     },
     "metadata": {
      "needs_background": "light"
     },
     "output_type": "display_data"
    }
   ],
   "source": [
    "Escenario1 = model_ev(X_train,X_test,y_train,y_test, modelLreg)"
   ]
  },
  {
   "cell_type": "code",
   "execution_count": 456,
   "metadata": {},
   "outputs": [
    {
     "data": {
      "text/plain": [
       "{'MAE TRAIN': 1647.0473327169839,\n",
       " 'MAE TEST': 1430.2027629171052,\n",
       " 'R^2_ajt(train)': 0.0014470544602654956,\n",
       " 'R^2_ajt(test)': 0.012648624959835097}"
      ]
     },
     "execution_count": 456,
     "metadata": {},
     "output_type": "execute_result"
    }
   ],
   "source": [
    "Escenario1"
   ]
  },
  {
   "cell_type": "code",
   "execution_count": 457,
   "metadata": {},
   "outputs": [
    {
     "name": "stdout",
     "output_type": "stream",
     "text": [
      "Escenario 1 - RegLineal Datos Crudos \n",
      " MAE TEST: 1277.8962728540696, MAE TRAIN:  1270.8516708255527\n"
     ]
    }
   ],
   "source": [
    "model_ev_cv(modelLreg,\"Escenario 1 - RegLineal Datos Crudos\", X_test, y_test,10)"
   ]
  },
  {
   "cell_type": "markdown",
   "metadata": {},
   "source": [
    "#### Escenario 2 - Sin Outliers"
   ]
  },
  {
   "cell_type": "markdown",
   "metadata": {},
   "source": [
    "Para conocer los outliers de manera numerica de procedio a calcular los percentiles. \n",
    "Las columnas que nos interesan son:\n",
    "1. Columna Target (precio por metro cuadrado)\n",
    "2. Columna superficie \n",
    "Eliminando los outliers de ambas columnas es posible tener un set más homogeneo."
   ]
  },
  {
   "cell_type": "code",
   "execution_count": 503,
   "metadata": {},
   "outputs": [
    {
     "data": {
      "text/html": [
       "<div>\n",
       "<style scoped>\n",
       "    .dataframe tbody tr th:only-of-type {\n",
       "        vertical-align: middle;\n",
       "    }\n",
       "\n",
       "    .dataframe tbody tr th {\n",
       "        vertical-align: top;\n",
       "    }\n",
       "\n",
       "    .dataframe thead th {\n",
       "        text-align: right;\n",
       "    }\n",
       "</style>\n",
       "<table border=\"1\" class=\"dataframe\">\n",
       "  <thead>\n",
       "    <tr style=\"text-align: right;\">\n",
       "      <th></th>\n",
       "      <th>lat</th>\n",
       "      <th>lon</th>\n",
       "      <th>price_aprox_usd</th>\n",
       "      <th>surface_covered_in_m2</th>\n",
       "      <th>surface_total_fixed</th>\n",
       "      <th>precio_per_m2</th>\n",
       "      <th>Q2</th>\n",
       "      <th>Q3</th>\n",
       "      <th>Q4</th>\n",
       "      <th>Q5</th>\n",
       "      <th>apartment</th>\n",
       "      <th>house</th>\n",
       "      <th>store</th>\n",
       "    </tr>\n",
       "  </thead>\n",
       "  <tbody>\n",
       "    <tr>\n",
       "      <th>count</th>\n",
       "      <td>21037.00</td>\n",
       "      <td>21037.00</td>\n",
       "      <td>21037.00</td>\n",
       "      <td>21037.00</td>\n",
       "      <td>21037.00</td>\n",
       "      <td>21037.00</td>\n",
       "      <td>21037.00</td>\n",
       "      <td>21037.00</td>\n",
       "      <td>21037.00</td>\n",
       "      <td>21037.00</td>\n",
       "      <td>21037.00</td>\n",
       "      <td>21037.00</td>\n",
       "      <td>21037.00</td>\n",
       "    </tr>\n",
       "    <tr>\n",
       "      <th>mean</th>\n",
       "      <td>-34.60</td>\n",
       "      <td>-58.44</td>\n",
       "      <td>258333.53</td>\n",
       "      <td>102.11</td>\n",
       "      <td>118.45</td>\n",
       "      <td>3102.48</td>\n",
       "      <td>0.21</td>\n",
       "      <td>0.20</td>\n",
       "      <td>0.19</td>\n",
       "      <td>0.18</td>\n",
       "      <td>0.83</td>\n",
       "      <td>0.06</td>\n",
       "      <td>0.04</td>\n",
       "    </tr>\n",
       "    <tr>\n",
       "      <th>std</th>\n",
       "      <td>0.03</td>\n",
       "      <td>0.04</td>\n",
       "      <td>362629.65</td>\n",
       "      <td>1305.02</td>\n",
       "      <td>1432.00</td>\n",
       "      <td>17973.55</td>\n",
       "      <td>0.41</td>\n",
       "      <td>0.40</td>\n",
       "      <td>0.40</td>\n",
       "      <td>0.39</td>\n",
       "      <td>0.38</td>\n",
       "      <td>0.23</td>\n",
       "      <td>0.20</td>\n",
       "    </tr>\n",
       "    <tr>\n",
       "      <th>min</th>\n",
       "      <td>-34.70</td>\n",
       "      <td>-58.54</td>\n",
       "      <td>5103.61</td>\n",
       "      <td>0.00</td>\n",
       "      <td>1.10</td>\n",
       "      <td>2.93</td>\n",
       "      <td>0.00</td>\n",
       "      <td>0.00</td>\n",
       "      <td>0.00</td>\n",
       "      <td>0.00</td>\n",
       "      <td>0.00</td>\n",
       "      <td>0.00</td>\n",
       "      <td>0.00</td>\n",
       "    </tr>\n",
       "    <tr>\n",
       "      <th>2.5%</th>\n",
       "      <td>-34.65</td>\n",
       "      <td>-58.51</td>\n",
       "      <td>61000.00</td>\n",
       "      <td>22.00</td>\n",
       "      <td>24.96</td>\n",
       "      <td>940.00</td>\n",
       "      <td>0.00</td>\n",
       "      <td>0.00</td>\n",
       "      <td>0.00</td>\n",
       "      <td>0.00</td>\n",
       "      <td>0.00</td>\n",
       "      <td>0.00</td>\n",
       "      <td>0.00</td>\n",
       "    </tr>\n",
       "    <tr>\n",
       "      <th>10%</th>\n",
       "      <td>-34.63</td>\n",
       "      <td>-58.49</td>\n",
       "      <td>79000.00</td>\n",
       "      <td>31.00</td>\n",
       "      <td>34.00</td>\n",
       "      <td>1428.03</td>\n",
       "      <td>0.00</td>\n",
       "      <td>0.00</td>\n",
       "      <td>0.00</td>\n",
       "      <td>0.00</td>\n",
       "      <td>0.00</td>\n",
       "      <td>0.00</td>\n",
       "      <td>0.00</td>\n",
       "    </tr>\n",
       "    <tr>\n",
       "      <th>25%</th>\n",
       "      <td>-34.62</td>\n",
       "      <td>-58.46</td>\n",
       "      <td>104000.00</td>\n",
       "      <td>39.00</td>\n",
       "      <td>43.87</td>\n",
       "      <td>1875.00</td>\n",
       "      <td>0.00</td>\n",
       "      <td>0.00</td>\n",
       "      <td>0.00</td>\n",
       "      <td>0.00</td>\n",
       "      <td>1.00</td>\n",
       "      <td>0.00</td>\n",
       "      <td>0.00</td>\n",
       "    </tr>\n",
       "    <tr>\n",
       "      <th>50%</th>\n",
       "      <td>-34.60</td>\n",
       "      <td>-58.44</td>\n",
       "      <td>155000.00</td>\n",
       "      <td>58.00</td>\n",
       "      <td>66.00</td>\n",
       "      <td>2341.46</td>\n",
       "      <td>0.00</td>\n",
       "      <td>0.00</td>\n",
       "      <td>0.00</td>\n",
       "      <td>0.00</td>\n",
       "      <td>1.00</td>\n",
       "      <td>0.00</td>\n",
       "      <td>0.00</td>\n",
       "    </tr>\n",
       "    <tr>\n",
       "      <th>75%</th>\n",
       "      <td>-34.58</td>\n",
       "      <td>-58.40</td>\n",
       "      <td>270000.00</td>\n",
       "      <td>100.00</td>\n",
       "      <td>115.00</td>\n",
       "      <td>2916.67</td>\n",
       "      <td>0.00</td>\n",
       "      <td>0.00</td>\n",
       "      <td>0.00</td>\n",
       "      <td>0.00</td>\n",
       "      <td>1.00</td>\n",
       "      <td>0.00</td>\n",
       "      <td>0.00</td>\n",
       "    </tr>\n",
       "    <tr>\n",
       "      <th>90%</th>\n",
       "      <td>-34.56</td>\n",
       "      <td>-58.38</td>\n",
       "      <td>500000.00</td>\n",
       "      <td>175.00</td>\n",
       "      <td>207.00</td>\n",
       "      <td>3883.36</td>\n",
       "      <td>1.00</td>\n",
       "      <td>1.00</td>\n",
       "      <td>1.00</td>\n",
       "      <td>1.00</td>\n",
       "      <td>1.00</td>\n",
       "      <td>0.00</td>\n",
       "      <td>0.00</td>\n",
       "    </tr>\n",
       "    <tr>\n",
       "      <th>97.5%</th>\n",
       "      <td>-34.55</td>\n",
       "      <td>-58.36</td>\n",
       "      <td>1150000.00</td>\n",
       "      <td>333.10</td>\n",
       "      <td>400.00</td>\n",
       "      <td>6910.76</td>\n",
       "      <td>1.00</td>\n",
       "      <td>1.00</td>\n",
       "      <td>1.00</td>\n",
       "      <td>1.00</td>\n",
       "      <td>1.00</td>\n",
       "      <td>1.00</td>\n",
       "      <td>1.00</td>\n",
       "    </tr>\n",
       "    <tr>\n",
       "      <th>max</th>\n",
       "      <td>-34.53</td>\n",
       "      <td>-58.35</td>\n",
       "      <td>8500000.00</td>\n",
       "      <td>187000.00</td>\n",
       "      <td>205101.60</td>\n",
       "      <td>2370532.46</td>\n",
       "      <td>1.00</td>\n",
       "      <td>1.00</td>\n",
       "      <td>1.00</td>\n",
       "      <td>1.00</td>\n",
       "      <td>1.00</td>\n",
       "      <td>1.00</td>\n",
       "      <td>1.00</td>\n",
       "    </tr>\n",
       "  </tbody>\n",
       "</table>\n",
       "</div>"
      ],
      "text/plain": [
       "           lat      lon  price_aprox_usd  surface_covered_in_m2  \\\n",
       "count 21037.00 21037.00         21037.00               21037.00   \n",
       "mean    -34.60   -58.44        258333.53                 102.11   \n",
       "std       0.03     0.04        362629.65                1305.02   \n",
       "min     -34.70   -58.54          5103.61                   0.00   \n",
       "2.5%    -34.65   -58.51         61000.00                  22.00   \n",
       "10%     -34.63   -58.49         79000.00                  31.00   \n",
       "25%     -34.62   -58.46        104000.00                  39.00   \n",
       "50%     -34.60   -58.44        155000.00                  58.00   \n",
       "75%     -34.58   -58.40        270000.00                 100.00   \n",
       "90%     -34.56   -58.38        500000.00                 175.00   \n",
       "97.5%   -34.55   -58.36       1150000.00                 333.10   \n",
       "max     -34.53   -58.35       8500000.00              187000.00   \n",
       "\n",
       "       surface_total_fixed  precio_per_m2       Q2       Q3       Q4       Q5  \\\n",
       "count             21037.00       21037.00 21037.00 21037.00 21037.00 21037.00   \n",
       "mean                118.45        3102.48     0.21     0.20     0.19     0.18   \n",
       "std                1432.00       17973.55     0.41     0.40     0.40     0.39   \n",
       "min                   1.10           2.93     0.00     0.00     0.00     0.00   \n",
       "2.5%                 24.96         940.00     0.00     0.00     0.00     0.00   \n",
       "10%                  34.00        1428.03     0.00     0.00     0.00     0.00   \n",
       "25%                  43.87        1875.00     0.00     0.00     0.00     0.00   \n",
       "50%                  66.00        2341.46     0.00     0.00     0.00     0.00   \n",
       "75%                 115.00        2916.67     0.00     0.00     0.00     0.00   \n",
       "90%                 207.00        3883.36     1.00     1.00     1.00     1.00   \n",
       "97.5%               400.00        6910.76     1.00     1.00     1.00     1.00   \n",
       "max              205101.60     2370532.46     1.00     1.00     1.00     1.00   \n",
       "\n",
       "       apartment    house    store  \n",
       "count   21037.00 21037.00 21037.00  \n",
       "mean        0.83     0.06     0.04  \n",
       "std         0.38     0.23     0.20  \n",
       "min         0.00     0.00     0.00  \n",
       "2.5%        0.00     0.00     0.00  \n",
       "10%         0.00     0.00     0.00  \n",
       "25%         1.00     0.00     0.00  \n",
       "50%         1.00     0.00     0.00  \n",
       "75%         1.00     0.00     0.00  \n",
       "90%         1.00     0.00     0.00  \n",
       "97.5%       1.00     1.00     1.00  \n",
       "max         1.00     1.00     1.00  "
      ]
     },
     "execution_count": 503,
     "metadata": {},
     "output_type": "execute_result"
    }
   ],
   "source": [
    "data_bsas.describe(percentiles=[.025,.10,.25,.5,.75,.90,.975])\n"
   ]
  },
  {
   "cell_type": "markdown",
   "metadata": {},
   "source": [
    "Se desidió dejar el 5% de los datos ubicados en los extremos, es decir trabajaremos con los datos entre el percentil 2,5 y 97.5."
   ]
  },
  {
   "cell_type": "code",
   "execution_count": 504,
   "metadata": {},
   "outputs": [
    {
     "data": {
      "image/png": "[encoded data removed]",
      "text/plain": [
       "<Figure size 1080x576 with 2 Axes>"
      ]
     },
     "metadata": {
      "needs_background": "light"
     },
     "output_type": "display_data"
    }
   ],
   "source": [
    "f, (ax_box, ax_hist) = plt.subplots(2, sharex=True, gridspec_kw={\"height_ratios\": (.15, .85)})\n",
    " \n",
    "# assigning a graph to each ax\n",
    "sns.boxplot(data = data_bsas.loc[(data_bsas['precio_per_m2']<6910.76)&(data_bsas['precio_per_m2']>940)], x= 'precio_per_m2', ax=ax_box)\n",
    "sns.histplot(data_bsas.loc[(data_bsas['precio_per_m2']<6910.76)&(data_bsas['precio_per_m2']>940)]['precio_per_m2'], ax=ax_hist)\n",
    " \n",
    "# Remove x axis name for the boxplot\n",
    "ax_box.set(xlabel='')\n",
    "plt.gcf().set_size_inches(15, 8)\n",
    "plt.show()"
   ]
  },
  {
   "cell_type": "code",
   "execution_count": 505,
   "metadata": {},
   "outputs": [],
   "source": [
    "data2 = data_bsas.loc[(data_bsas['precio_per_m2']<6910.76)&(data_bsas['precio_per_m2']>940)]"
   ]
  },
  {
   "cell_type": "markdown",
   "metadata": {},
   "source": [
    "Sin embarho no es la unica columna que tiene outliers, es decir elimnado estos datos aun quedan datos anómalos en la columna superficie total. Se hará un proceso similar. "
   ]
  },
  {
   "cell_type": "code",
   "execution_count": 506,
   "metadata": {},
   "outputs": [
    {
     "data": {
      "image/png": "[encoded data removed]",
      "text/plain": [
       "<Figure size 1080x576 with 2 Axes>"
      ]
     },
     "metadata": {
      "needs_background": "light"
     },
     "output_type": "display_data"
    }
   ],
   "source": [
    "f, (ax_box, ax_hist) = plt.subplots(2, sharex=True, gridspec_kw={\"height_ratios\": (.15, .85)})\n",
    " \n",
    "# assigning a graph to each ax\n",
    "sns.boxplot(data = data2, x= 'surface_total_fixed', ax=ax_box)\n",
    "sns.histplot(data2['surface_total_fixed'], ax=ax_hist)\n",
    " \n",
    "# Remove x axis name for the boxplot\n",
    "ax_box.set(xlabel='')\n",
    "plt.gcf().set_size_inches(15, 8)\n",
    "plt.show()"
   ]
  },
  {
   "cell_type": "code",
   "execution_count": 556,
   "metadata": {},
   "outputs": [
    {
     "data": {
      "text/html": [
       "<div>\n",
       "<style scoped>\n",
       "    .dataframe tbody tr th:only-of-type {\n",
       "        vertical-align: middle;\n",
       "    }\n",
       "\n",
       "    .dataframe tbody tr th {\n",
       "        vertical-align: top;\n",
       "    }\n",
       "\n",
       "    .dataframe thead th {\n",
       "        text-align: right;\n",
       "    }\n",
       "</style>\n",
       "<table border=\"1\" class=\"dataframe\">\n",
       "  <thead>\n",
       "    <tr style=\"text-align: right;\">\n",
       "      <th></th>\n",
       "      <th>lat</th>\n",
       "      <th>lon</th>\n",
       "      <th>price_aprox_usd</th>\n",
       "      <th>surface_covered_in_m2</th>\n",
       "      <th>surface_total_fixed</th>\n",
       "      <th>precio_per_m2</th>\n",
       "      <th>Q2</th>\n",
       "      <th>Q3</th>\n",
       "      <th>Q4</th>\n",
       "      <th>Q5</th>\n",
       "      <th>apartment</th>\n",
       "      <th>house</th>\n",
       "      <th>store</th>\n",
       "    </tr>\n",
       "  </thead>\n",
       "  <tbody>\n",
       "    <tr>\n",
       "      <th>count</th>\n",
       "      <td>18981.00</td>\n",
       "      <td>18981.00</td>\n",
       "      <td>18981.00</td>\n",
       "      <td>18981.00</td>\n",
       "      <td>18981.00</td>\n",
       "      <td>18981.00</td>\n",
       "      <td>18981.00</td>\n",
       "      <td>18981.00</td>\n",
       "      <td>18981.00</td>\n",
       "      <td>18981.00</td>\n",
       "      <td>18981.00</td>\n",
       "      <td>18981.00</td>\n",
       "      <td>18981.00</td>\n",
       "    </tr>\n",
       "    <tr>\n",
       "      <th>mean</th>\n",
       "      <td>-34.60</td>\n",
       "      <td>-58.44</td>\n",
       "      <td>217964.45</td>\n",
       "      <td>76.27</td>\n",
       "      <td>87.33</td>\n",
       "      <td>2498.94</td>\n",
       "      <td>0.22</td>\n",
       "      <td>0.21</td>\n",
       "      <td>0.20</td>\n",
       "      <td>0.17</td>\n",
       "      <td>0.85</td>\n",
       "      <td>0.05</td>\n",
       "      <td>0.04</td>\n",
       "    </tr>\n",
       "    <tr>\n",
       "      <th>std</th>\n",
       "      <td>0.03</td>\n",
       "      <td>0.04</td>\n",
       "      <td>200821.38</td>\n",
       "      <td>52.95</td>\n",
       "      <td>61.27</td>\n",
       "      <td>931.76</td>\n",
       "      <td>0.42</td>\n",
       "      <td>0.41</td>\n",
       "      <td>0.40</td>\n",
       "      <td>0.38</td>\n",
       "      <td>0.36</td>\n",
       "      <td>0.22</td>\n",
       "      <td>0.19</td>\n",
       "    </tr>\n",
       "    <tr>\n",
       "      <th>min</th>\n",
       "      <td>-34.70</td>\n",
       "      <td>-58.54</td>\n",
       "      <td>30000.00</td>\n",
       "      <td>0.00</td>\n",
       "      <td>26.32</td>\n",
       "      <td>940.35</td>\n",
       "      <td>0.00</td>\n",
       "      <td>0.00</td>\n",
       "      <td>0.00</td>\n",
       "      <td>0.00</td>\n",
       "      <td>0.00</td>\n",
       "      <td>0.00</td>\n",
       "      <td>0.00</td>\n",
       "    </tr>\n",
       "    <tr>\n",
       "      <th>2.5%</th>\n",
       "      <td>-34.64</td>\n",
       "      <td>-58.51</td>\n",
       "      <td>66000.00</td>\n",
       "      <td>28.00</td>\n",
       "      <td>30.00</td>\n",
       "      <td>1153.54</td>\n",
       "      <td>0.00</td>\n",
       "      <td>0.00</td>\n",
       "      <td>0.00</td>\n",
       "      <td>0.00</td>\n",
       "      <td>0.00</td>\n",
       "      <td>0.00</td>\n",
       "      <td>0.00</td>\n",
       "    </tr>\n",
       "    <tr>\n",
       "      <th>10%</th>\n",
       "      <td>-34.63</td>\n",
       "      <td>-58.49</td>\n",
       "      <td>81000.00</td>\n",
       "      <td>33.00</td>\n",
       "      <td>36.00</td>\n",
       "      <td>1535.09</td>\n",
       "      <td>0.00</td>\n",
       "      <td>0.00</td>\n",
       "      <td>0.00</td>\n",
       "      <td>0.00</td>\n",
       "      <td>0.00</td>\n",
       "      <td>0.00</td>\n",
       "      <td>0.00</td>\n",
       "    </tr>\n",
       "    <tr>\n",
       "      <th>25%</th>\n",
       "      <td>-34.62</td>\n",
       "      <td>-58.46</td>\n",
       "      <td>105000.00</td>\n",
       "      <td>40.00</td>\n",
       "      <td>45.00</td>\n",
       "      <td>1907.54</td>\n",
       "      <td>0.00</td>\n",
       "      <td>0.00</td>\n",
       "      <td>0.00</td>\n",
       "      <td>0.00</td>\n",
       "      <td>1.00</td>\n",
       "      <td>0.00</td>\n",
       "      <td>0.00</td>\n",
       "    </tr>\n",
       "    <tr>\n",
       "      <th>50%</th>\n",
       "      <td>-34.60</td>\n",
       "      <td>-58.44</td>\n",
       "      <td>150000.00</td>\n",
       "      <td>58.00</td>\n",
       "      <td>65.81</td>\n",
       "      <td>2335.56</td>\n",
       "      <td>0.00</td>\n",
       "      <td>0.00</td>\n",
       "      <td>0.00</td>\n",
       "      <td>0.00</td>\n",
       "      <td>1.00</td>\n",
       "      <td>0.00</td>\n",
       "      <td>0.00</td>\n",
       "    </tr>\n",
       "    <tr>\n",
       "      <th>75%</th>\n",
       "      <td>-34.58</td>\n",
       "      <td>-58.40</td>\n",
       "      <td>250000.00</td>\n",
       "      <td>92.00</td>\n",
       "      <td>108.00</td>\n",
       "      <td>2864.63</td>\n",
       "      <td>0.00</td>\n",
       "      <td>0.00</td>\n",
       "      <td>0.00</td>\n",
       "      <td>0.00</td>\n",
       "      <td>1.00</td>\n",
       "      <td>0.00</td>\n",
       "      <td>0.00</td>\n",
       "    </tr>\n",
       "    <tr>\n",
       "      <th>90%</th>\n",
       "      <td>-34.56</td>\n",
       "      <td>-58.38</td>\n",
       "      <td>420000.00</td>\n",
       "      <td>150.00</td>\n",
       "      <td>174.39</td>\n",
       "      <td>3575.76</td>\n",
       "      <td>1.00</td>\n",
       "      <td>1.00</td>\n",
       "      <td>1.00</td>\n",
       "      <td>1.00</td>\n",
       "      <td>1.00</td>\n",
       "      <td>0.00</td>\n",
       "      <td>0.00</td>\n",
       "    </tr>\n",
       "    <tr>\n",
       "      <th>97.5%</th>\n",
       "      <td>-34.55</td>\n",
       "      <td>-58.37</td>\n",
       "      <td>780000.00</td>\n",
       "      <td>230.00</td>\n",
       "      <td>265.00</td>\n",
       "      <td>5142.86</td>\n",
       "      <td>1.00</td>\n",
       "      <td>1.00</td>\n",
       "      <td>1.00</td>\n",
       "      <td>1.00</td>\n",
       "      <td>1.00</td>\n",
       "      <td>1.00</td>\n",
       "      <td>1.00</td>\n",
       "    </tr>\n",
       "    <tr>\n",
       "      <th>max</th>\n",
       "      <td>-34.53</td>\n",
       "      <td>-58.35</td>\n",
       "      <td>2300000.00</td>\n",
       "      <td>350.00</td>\n",
       "      <td>353.00</td>\n",
       "      <td>6910.57</td>\n",
       "      <td>1.00</td>\n",
       "      <td>1.00</td>\n",
       "      <td>1.00</td>\n",
       "      <td>1.00</td>\n",
       "      <td>1.00</td>\n",
       "      <td>1.00</td>\n",
       "      <td>1.00</td>\n",
       "    </tr>\n",
       "  </tbody>\n",
       "</table>\n",
       "</div>"
      ],
      "text/plain": [
       "           lat      lon  price_aprox_usd  surface_covered_in_m2  \\\n",
       "count 18981.00 18981.00         18981.00               18981.00   \n",
       "mean    -34.60   -58.44        217964.45                  76.27   \n",
       "std       0.03     0.04        200821.38                  52.95   \n",
       "min     -34.70   -58.54         30000.00                   0.00   \n",
       "2.5%    -34.64   -58.51         66000.00                  28.00   \n",
       "10%     -34.63   -58.49         81000.00                  33.00   \n",
       "25%     -34.62   -58.46        105000.00                  40.00   \n",
       "50%     -34.60   -58.44        150000.00                  58.00   \n",
       "75%     -34.58   -58.40        250000.00                  92.00   \n",
       "90%     -34.56   -58.38        420000.00                 150.00   \n",
       "97.5%   -34.55   -58.37        780000.00                 230.00   \n",
       "max     -34.53   -58.35       2300000.00                 350.00   \n",
       "\n",
       "       surface_total_fixed  precio_per_m2       Q2       Q3       Q4       Q5  \\\n",
       "count             18981.00       18981.00 18981.00 18981.00 18981.00 18981.00   \n",
       "mean                 87.33        2498.94     0.22     0.21     0.20     0.17   \n",
       "std                  61.27         931.76     0.42     0.41     0.40     0.38   \n",
       "min                  26.32         940.35     0.00     0.00     0.00     0.00   \n",
       "2.5%                 30.00        1153.54     0.00     0.00     0.00     0.00   \n",
       "10%                  36.00        1535.09     0.00     0.00     0.00     0.00   \n",
       "25%                  45.00        1907.54     0.00     0.00     0.00     0.00   \n",
       "50%                  65.81        2335.56     0.00     0.00     0.00     0.00   \n",
       "75%                 108.00        2864.63     0.00     0.00     0.00     0.00   \n",
       "90%                 174.39        3575.76     1.00     1.00     1.00     1.00   \n",
       "97.5%               265.00        5142.86     1.00     1.00     1.00     1.00   \n",
       "max                 353.00        6910.57     1.00     1.00     1.00     1.00   \n",
       "\n",
       "       apartment    house    store  \n",
       "count   18981.00 18981.00 18981.00  \n",
       "mean        0.85     0.05     0.04  \n",
       "std         0.36     0.22     0.19  \n",
       "min         0.00     0.00     0.00  \n",
       "2.5%        0.00     0.00     0.00  \n",
       "10%         0.00     0.00     0.00  \n",
       "25%         1.00     0.00     0.00  \n",
       "50%         1.00     0.00     0.00  \n",
       "75%         1.00     0.00     0.00  \n",
       "90%         1.00     0.00     0.00  \n",
       "97.5%       1.00     1.00     1.00  \n",
       "max         1.00     1.00     1.00  "
      ]
     },
     "execution_count": 556,
     "metadata": {},
     "output_type": "execute_result"
    }
   ],
   "source": [
    "data2.describe(percentiles=[.025,.10,.25,.5,.75,.90,.975])"
   ]
  },
  {
   "cell_type": "code",
   "execution_count": 508,
   "metadata": {},
   "outputs": [
    {
     "data": {
      "image/png": "[encoded data removed]",
      "text/plain": [
       "<Figure size 1080x576 with 2 Axes>"
      ]
     },
     "metadata": {
      "needs_background": "light"
     },
     "output_type": "display_data"
    }
   ],
   "source": [
    "f, (ax_box, ax_hist) = plt.subplots(2, sharex=True, gridspec_kw={\"height_ratios\": (.15, .85)})\n",
    " \n",
    "# assigning a graph to each ax\n",
    "sns.boxplot(data = data2.loc[(data2['surface_total_fixed']<353.41)&(data2['surface_total_fixed']>26.00)], x= 'surface_total_fixed', ax=ax_box)\n",
    "sns.histplot(data2.loc[(data2['surface_total_fixed']<353.41)&(data2['surface_total_fixed']>26.00)]['surface_total_fixed'], ax=ax_hist)\n",
    " \n",
    "# Remove x axis name for the boxplot\n",
    "ax_box.set(xlabel='')\n",
    "plt.gcf().set_size_inches(15, 8)\n",
    "plt.show()"
   ]
  },
  {
   "cell_type": "code",
   "execution_count": 553,
   "metadata": {},
   "outputs": [],
   "source": [
    "data2 = data2.loc[(data2['surface_total_fixed']<353.41)&(data2['surface_total_fixed']>26)]"
   ]
  },
  {
   "cell_type": "markdown",
   "metadata": {},
   "source": [
    "Es decir se eliminaron 2056 filas."
   ]
  },
  {
   "cell_type": "code",
   "execution_count": 557,
   "metadata": {},
   "outputs": [
    {
     "data": {
      "text/plain": [
       "2056"
      ]
     },
     "execution_count": 557,
     "metadata": {},
     "output_type": "execute_result"
    }
   ],
   "source": [
    "data_bsas.shape[0] - data2.shape[0]"
   ]
  },
  {
   "cell_type": "code",
   "execution_count": 558,
   "metadata": {},
   "outputs": [
    {
     "data": {
      "text/html": [
       "<div>\n",
       "<style scoped>\n",
       "    .dataframe tbody tr th:only-of-type {\n",
       "        vertical-align: middle;\n",
       "    }\n",
       "\n",
       "    .dataframe tbody tr th {\n",
       "        vertical-align: top;\n",
       "    }\n",
       "\n",
       "    .dataframe thead th {\n",
       "        text-align: right;\n",
       "    }\n",
       "</style>\n",
       "<table border=\"1\" class=\"dataframe\">\n",
       "  <thead>\n",
       "    <tr style=\"text-align: right;\">\n",
       "      <th></th>\n",
       "      <th>lat</th>\n",
       "      <th>lon</th>\n",
       "      <th>price_aprox_usd</th>\n",
       "      <th>surface_covered_in_m2</th>\n",
       "      <th>surface_total_fixed</th>\n",
       "      <th>precio_per_m2</th>\n",
       "      <th>Q2</th>\n",
       "      <th>Q3</th>\n",
       "      <th>Q4</th>\n",
       "      <th>Q5</th>\n",
       "      <th>apartment</th>\n",
       "      <th>house</th>\n",
       "      <th>store</th>\n",
       "    </tr>\n",
       "  </thead>\n",
       "  <tbody>\n",
       "    <tr>\n",
       "      <th>0</th>\n",
       "      <td>-34.66</td>\n",
       "      <td>-58.51</td>\n",
       "      <td>62000.00</td>\n",
       "      <td>40.00</td>\n",
       "      <td>55.00</td>\n",
       "      <td>1127.27</td>\n",
       "      <td>0.00</td>\n",
       "      <td>0.00</td>\n",
       "      <td>0.00</td>\n",
       "      <td>0.00</td>\n",
       "      <td>0.00</td>\n",
       "      <td>0.00</td>\n",
       "      <td>0.00</td>\n",
       "    </tr>\n",
       "    <tr>\n",
       "      <th>1</th>\n",
       "      <td>-34.65</td>\n",
       "      <td>-58.52</td>\n",
       "      <td>72000.00</td>\n",
       "      <td>55.00</td>\n",
       "      <td>55.00</td>\n",
       "      <td>1309.09</td>\n",
       "      <td>0.00</td>\n",
       "      <td>0.00</td>\n",
       "      <td>0.00</td>\n",
       "      <td>0.00</td>\n",
       "      <td>1.00</td>\n",
       "      <td>0.00</td>\n",
       "      <td>0.00</td>\n",
       "    </tr>\n",
       "    <tr>\n",
       "      <th>2</th>\n",
       "      <td>-34.56</td>\n",
       "      <td>-58.44</td>\n",
       "      <td>138000.00</td>\n",
       "      <td>40.00</td>\n",
       "      <td>45.00</td>\n",
       "      <td>3066.67</td>\n",
       "      <td>0.00</td>\n",
       "      <td>0.00</td>\n",
       "      <td>1.00</td>\n",
       "      <td>0.00</td>\n",
       "      <td>1.00</td>\n",
       "      <td>0.00</td>\n",
       "      <td>0.00</td>\n",
       "    </tr>\n",
       "    <tr>\n",
       "      <th>3</th>\n",
       "      <td>-34.56</td>\n",
       "      <td>-58.44</td>\n",
       "      <td>195000.00</td>\n",
       "      <td>60.00</td>\n",
       "      <td>65.00</td>\n",
       "      <td>3000.00</td>\n",
       "      <td>0.00</td>\n",
       "      <td>0.00</td>\n",
       "      <td>1.00</td>\n",
       "      <td>0.00</td>\n",
       "      <td>1.00</td>\n",
       "      <td>0.00</td>\n",
       "      <td>0.00</td>\n",
       "    </tr>\n",
       "    <tr>\n",
       "      <th>4</th>\n",
       "      <td>-34.65</td>\n",
       "      <td>-58.50</td>\n",
       "      <td>239000.00</td>\n",
       "      <td>98.00</td>\n",
       "      <td>140.00</td>\n",
       "      <td>1707.14</td>\n",
       "      <td>0.00</td>\n",
       "      <td>0.00</td>\n",
       "      <td>0.00</td>\n",
       "      <td>0.00</td>\n",
       "      <td>0.00</td>\n",
       "      <td>0.00</td>\n",
       "      <td>0.00</td>\n",
       "    </tr>\n",
       "    <tr>\n",
       "      <th>...</th>\n",
       "      <td>...</td>\n",
       "      <td>...</td>\n",
       "      <td>...</td>\n",
       "      <td>...</td>\n",
       "      <td>...</td>\n",
       "      <td>...</td>\n",
       "      <td>...</td>\n",
       "      <td>...</td>\n",
       "      <td>...</td>\n",
       "      <td>...</td>\n",
       "      <td>...</td>\n",
       "      <td>...</td>\n",
       "      <td>...</td>\n",
       "    </tr>\n",
       "    <tr>\n",
       "      <th>21032</th>\n",
       "      <td>-34.63</td>\n",
       "      <td>-58.46</td>\n",
       "      <td>120000.00</td>\n",
       "      <td>72.00</td>\n",
       "      <td>78.97</td>\n",
       "      <td>1519.57</td>\n",
       "      <td>1.00</td>\n",
       "      <td>0.00</td>\n",
       "      <td>0.00</td>\n",
       "      <td>0.00</td>\n",
       "      <td>1.00</td>\n",
       "      <td>0.00</td>\n",
       "      <td>0.00</td>\n",
       "    </tr>\n",
       "    <tr>\n",
       "      <th>21033</th>\n",
       "      <td>-34.62</td>\n",
       "      <td>-58.46</td>\n",
       "      <td>74500.00</td>\n",
       "      <td>33.00</td>\n",
       "      <td>36.19</td>\n",
       "      <td>2058.33</td>\n",
       "      <td>1.00</td>\n",
       "      <td>0.00</td>\n",
       "      <td>0.00</td>\n",
       "      <td>0.00</td>\n",
       "      <td>1.00</td>\n",
       "      <td>0.00</td>\n",
       "      <td>0.00</td>\n",
       "    </tr>\n",
       "    <tr>\n",
       "      <th>21034</th>\n",
       "      <td>-34.60</td>\n",
       "      <td>-58.40</td>\n",
       "      <td>165000.00</td>\n",
       "      <td>65.00</td>\n",
       "      <td>91.00</td>\n",
       "      <td>1813.19</td>\n",
       "      <td>0.00</td>\n",
       "      <td>0.00</td>\n",
       "      <td>0.00</td>\n",
       "      <td>1.00</td>\n",
       "      <td>1.00</td>\n",
       "      <td>0.00</td>\n",
       "      <td>0.00</td>\n",
       "    </tr>\n",
       "    <tr>\n",
       "      <th>21035</th>\n",
       "      <td>-34.59</td>\n",
       "      <td>-58.40</td>\n",
       "      <td>165000.00</td>\n",
       "      <td>39.00</td>\n",
       "      <td>44.00</td>\n",
       "      <td>3750.00</td>\n",
       "      <td>0.00</td>\n",
       "      <td>1.00</td>\n",
       "      <td>0.00</td>\n",
       "      <td>0.00</td>\n",
       "      <td>1.00</td>\n",
       "      <td>0.00</td>\n",
       "      <td>0.00</td>\n",
       "    </tr>\n",
       "    <tr>\n",
       "      <th>21036</th>\n",
       "      <td>-34.57</td>\n",
       "      <td>-58.48</td>\n",
       "      <td>131500.00</td>\n",
       "      <td>39.00</td>\n",
       "      <td>46.00</td>\n",
       "      <td>2858.70</td>\n",
       "      <td>0.00</td>\n",
       "      <td>0.00</td>\n",
       "      <td>0.00</td>\n",
       "      <td>0.00</td>\n",
       "      <td>1.00</td>\n",
       "      <td>0.00</td>\n",
       "      <td>0.00</td>\n",
       "    </tr>\n",
       "  </tbody>\n",
       "</table>\n",
       "<p>18981 rows × 13 columns</p>\n",
       "</div>"
      ],
      "text/plain": [
       "         lat    lon  price_aprox_usd  surface_covered_in_m2  \\\n",
       "0     -34.66 -58.51         62000.00                  40.00   \n",
       "1     -34.65 -58.52         72000.00                  55.00   \n",
       "2     -34.56 -58.44        138000.00                  40.00   \n",
       "3     -34.56 -58.44        195000.00                  60.00   \n",
       "4     -34.65 -58.50        239000.00                  98.00   \n",
       "...      ...    ...              ...                    ...   \n",
       "21032 -34.63 -58.46        120000.00                  72.00   \n",
       "21033 -34.62 -58.46         74500.00                  33.00   \n",
       "21034 -34.60 -58.40        165000.00                  65.00   \n",
       "21035 -34.59 -58.40        165000.00                  39.00   \n",
       "21036 -34.57 -58.48        131500.00                  39.00   \n",
       "\n",
       "       surface_total_fixed  precio_per_m2   Q2   Q3   Q4   Q5  apartment  \\\n",
       "0                    55.00        1127.27 0.00 0.00 0.00 0.00       0.00   \n",
       "1                    55.00        1309.09 0.00 0.00 0.00 0.00       1.00   \n",
       "2                    45.00        3066.67 0.00 0.00 1.00 0.00       1.00   \n",
       "3                    65.00        3000.00 0.00 0.00 1.00 0.00       1.00   \n",
       "4                   140.00        1707.14 0.00 0.00 0.00 0.00       0.00   \n",
       "...                    ...            ...  ...  ...  ...  ...        ...   \n",
       "21032                78.97        1519.57 1.00 0.00 0.00 0.00       1.00   \n",
       "21033                36.19        2058.33 1.00 0.00 0.00 0.00       1.00   \n",
       "21034                91.00        1813.19 0.00 0.00 0.00 1.00       1.00   \n",
       "21035                44.00        3750.00 0.00 1.00 0.00 0.00       1.00   \n",
       "21036                46.00        2858.70 0.00 0.00 0.00 0.00       1.00   \n",
       "\n",
       "       house  store  \n",
       "0       0.00   0.00  \n",
       "1       0.00   0.00  \n",
       "2       0.00   0.00  \n",
       "3       0.00   0.00  \n",
       "4       0.00   0.00  \n",
       "...      ...    ...  \n",
       "21032   0.00   0.00  \n",
       "21033   0.00   0.00  \n",
       "21034   0.00   0.00  \n",
       "21035   0.00   0.00  \n",
       "21036   0.00   0.00  \n",
       "\n",
       "[18981 rows x 13 columns]"
      ]
     },
     "execution_count": 558,
     "metadata": {},
     "output_type": "execute_result"
    }
   ],
   "source": [
    "data2"
   ]
  },
  {
   "cell_type": "code",
   "execution_count": 541,
   "metadata": {},
   "outputs": [],
   "source": [
    "X = data2.drop(['price_aprox_usd','precio_per_m2'],axis=1)\n",
    "y = data2['precio_per_m2']"
   ]
  },
  {
   "cell_type": "code",
   "execution_count": 542,
   "metadata": {},
   "outputs": [
    {
     "data": {
      "text/plain": [
       "0       1127.27\n",
       "1       1309.09\n",
       "2       3066.67\n",
       "3       3000.00\n",
       "4       1707.14\n",
       "          ...  \n",
       "21032   1519.57\n",
       "21033   2058.33\n",
       "21034   1813.19\n",
       "21035   3750.00\n",
       "21036   2858.70\n",
       "Name: precio_per_m2, Length: 18981, dtype: float64"
      ]
     },
     "execution_count": 542,
     "metadata": {},
     "output_type": "execute_result"
    }
   ],
   "source": [
    "y"
   ]
  },
  {
   "cell_type": "code",
   "execution_count": 551,
   "metadata": {},
   "outputs": [
    {
     "name": "stdout",
     "output_type": "stream",
     "text": [
      "X: (18981, 11), y: (18981,)\n"
     ]
    }
   ],
   "source": [
    "print(f'X: {X.shape}, y: {y.shape}')"
   ]
  },
  {
   "cell_type": "code",
   "execution_count": 513,
   "metadata": {},
   "outputs": [],
   "source": [
    "scl = StandardScaler()\n",
    "X = scl.fit_transform(X)\n",
    "X = pd.DataFrame(X)\n"
   ]
  },
  {
   "cell_type": "code",
   "execution_count": 515,
   "metadata": {},
   "outputs": [],
   "source": [
    "X_train, X_test, y_train, y_test = train_test_split(X, y, test_size=0.3, random_state=42)"
   ]
  },
  {
   "cell_type": "code",
   "execution_count": 516,
   "metadata": {},
   "outputs": [],
   "source": [
    "linreg_sc = LinearRegression()\n",
    "modelLreg_sc_sinout = linreg_sc.fit(X_train, y_train)"
   ]
  },
  {
   "cell_type": "code",
   "execution_count": 517,
   "metadata": {},
   "outputs": [
    {
     "name": "stdout",
     "output_type": "stream",
     "text": [
      "RMSE Train: 765.3001182540057\n",
      "\n",
      "RMSE Test: 778.5096801443375\n",
      "\n",
      "MAE Train: 535.2838723430955\n",
      "\n",
      "MAE Test: 545.4446271759178\n",
      "\n",
      "R^2(train)= 0.3235490943718782\n",
      "R^2_ajt(train)= 0.3231568248815566\n",
      "\n",
      "R^2(test)= 0.306172767855\n",
      "R^2_ajt(test)= 0.3057704219456956\n",
      "\n"
     ]
    },
    {
     "data": {
      "image/png": "[encoded data removed]",
      "text/plain": [
       "<Figure size 864x288 with 2 Axes>"
      ]
     },
     "metadata": {
      "needs_background": "light"
     },
     "output_type": "display_data"
    }
   ],
   "source": [
    "Escenario2 = model_ev(X_train,X_test,y_train,y_test, modelLreg_sc_sinout)"
   ]
  },
  {
   "cell_type": "code",
   "execution_count": 518,
   "metadata": {},
   "outputs": [
    {
     "name": "stdout",
     "output_type": "stream",
     "text": [
      "Escenario 2 - RegLineal Datos Sin Outliers Escalados \n",
      " MAE TEST: 547.8915747511064, MAE TRAIN:  546.5539131801462\n"
     ]
    }
   ],
   "source": [
    "model_ev_cv(modelLreg_sc_sinout,\"Escenario 2 - RegLineal Datos Sin Outliers Escalados\", X_test, y_test,10)"
   ]
  },
  {
   "cell_type": "code",
   "execution_count": 519,
   "metadata": {},
   "outputs": [
    {
     "data": {
      "text/plain": [
       "{'MAE TRAIN': 535.2838723430955,\n",
       " 'MAE TEST': 545.4446271759178,\n",
       " 'R^2_ajt(train)': 0.3231568248815566,\n",
       " 'R^2_ajt(test)': 0.3057704219456956}"
      ]
     },
     "execution_count": 519,
     "metadata": {},
     "output_type": "execute_result"
    }
   ],
   "source": [
    "Escenario2"
   ]
  },
  {
   "cell_type": "code",
   "execution_count": 520,
   "metadata": {},
   "outputs": [
    {
     "data": {
      "text/html": [
       "<div>\n",
       "<style scoped>\n",
       "    .dataframe tbody tr th:only-of-type {\n",
       "        vertical-align: middle;\n",
       "    }\n",
       "\n",
       "    .dataframe tbody tr th {\n",
       "        vertical-align: top;\n",
       "    }\n",
       "\n",
       "    .dataframe thead th {\n",
       "        text-align: right;\n",
       "    }\n",
       "</style>\n",
       "<table border=\"1\" class=\"dataframe\">\n",
       "  <thead>\n",
       "    <tr style=\"text-align: right;\">\n",
       "      <th></th>\n",
       "      <th>Escenario 1</th>\n",
       "      <th>Escenario 2</th>\n",
       "    </tr>\n",
       "  </thead>\n",
       "  <tbody>\n",
       "    <tr>\n",
       "      <th>MAE TRAIN</th>\n",
       "      <td>1647.05</td>\n",
       "      <td>535.28</td>\n",
       "    </tr>\n",
       "    <tr>\n",
       "      <th>MAE TEST</th>\n",
       "      <td>1430.20</td>\n",
       "      <td>545.44</td>\n",
       "    </tr>\n",
       "    <tr>\n",
       "      <th>R^2_ajt(train)</th>\n",
       "      <td>0.00</td>\n",
       "      <td>0.32</td>\n",
       "    </tr>\n",
       "    <tr>\n",
       "      <th>R^2_ajt(test)</th>\n",
       "      <td>0.01</td>\n",
       "      <td>0.31</td>\n",
       "    </tr>\n",
       "  </tbody>\n",
       "</table>\n",
       "</div>"
      ],
      "text/plain": [
       "                Escenario 1  Escenario 2\n",
       "MAE TRAIN           1647.05       535.28\n",
       "MAE TEST            1430.20       545.44\n",
       "R^2_ajt(train)         0.00         0.32\n",
       "R^2_ajt(test)          0.01         0.31"
      ]
     },
     "execution_count": 520,
     "metadata": {},
     "output_type": "execute_result"
    }
   ],
   "source": [
    "pd.DataFrame({'Escenario 1': Escenario1, 'Escenario 2': Escenario2})"
   ]
  },
  {
   "cell_type": "markdown",
   "metadata": {},
   "source": [
    "La técnica de eliminación de outliers y escalado de columnas predictoras funcionó positivamente. La mejora fue tanto en el R^2 como en el MAE. El escenario 2 obtuvo un R^2 = 0.31 (test) y un MAE = 545 (test). \n",
    "A su vez se aprecia una mejora en el histograma de errores centrandose en 0, sin embargo el diagrama de dispersión de los ypred y los y yreales no presenta buen ajuste. Es posible que los outliers sigan afectando al modelo sobre todo para precios mayores a 4000 uds/m2."
   ]
  },
  {
   "cell_type": "markdown",
   "metadata": {},
   "source": [
    "A modo de entender mejor este modelo se realizó un modelo OLS con la libreria statmodels, el objetivo de esto es conocer los pvalues de cada feature y evaluar si es necesario eliminar alguna del modelo."
   ]
  },
  {
   "cell_type": "code",
   "execution_count": 492,
   "metadata": {},
   "outputs": [],
   "source": [
    "import statsmodels.api as sm\n",
    "import numpy as np\n"
   ]
  },
  {
   "cell_type": "code",
   "execution_count": 493,
   "metadata": {},
   "outputs": [
    {
     "data": {
      "text/plain": [
       "Index(['lat', 'lon', 'price_aprox_usd', 'surface_covered_in_m2',\n",
       "       'surface_total_fixed', 'precio_per_m2', 'Q2', 'Q3', 'Q4', 'Q5',\n",
       "       'apartment', 'house', 'store'],\n",
       "      dtype='object')"
      ]
     },
     "execution_count": 493,
     "metadata": {},
     "output_type": "execute_result"
    }
   ],
   "source": [
    "data2.columns"
   ]
  },
  {
   "cell_type": "code",
   "execution_count": 494,
   "metadata": {},
   "outputs": [],
   "source": [
    "x_columns = ['lat', 'lon', 'surface_covered_in_m2',\n",
    "       'surface_total_fixed',  'Q2', 'Q3', 'Q4', 'Q5',\n",
    "       'apartment', 'house', 'store']"
   ]
  },
  {
   "cell_type": "code",
   "execution_count": 496,
   "metadata": {},
   "outputs": [],
   "source": [
    "y = data2['precio_per_m2']"
   ]
  },
  {
   "cell_type": "code",
   "execution_count": 498,
   "metadata": {},
   "outputs": [
    {
     "name": "stdout",
     "output_type": "stream",
     "text": [
      "                                 OLS Regression Results                                \n",
      "=======================================================================================\n",
      "Dep. Variable:          precio_per_m2   R-squared (uncentered):                   0.901\n",
      "Model:                            OLS   Adj. R-squared (uncentered):              0.901\n",
      "Method:                 Least Squares   F-statistic:                          1.578e+04\n",
      "Date:                Fri, 02 Dec 2022   Prob (F-statistic):                        0.00\n",
      "Time:                        16:07:53   Log-Likelihood:                     -1.5467e+05\n",
      "No. Observations:               18981   AIC:                                  3.094e+05\n",
      "Df Residuals:                   18970   BIC:                                  3.095e+05\n",
      "Df Model:                          11                                                  \n",
      "Covariance Type:            nonrobust                                                  \n",
      "=========================================================================================\n",
      "                            coef    std err          t      P>|t|      [0.025      0.975]\n",
      "-----------------------------------------------------------------------------------------\n",
      "lat                    2783.1043    165.614     16.805      0.000    2458.487    3107.722\n",
      "lon                   -1682.1737     98.071    -17.153      0.000   -1874.401   -1489.946\n",
      "surface_covered_in_m2    14.2699      0.400     35.680      0.000      13.486      15.054\n",
      "surface_total_fixed     -11.8855      0.346    -34.329      0.000     -12.564     -11.207\n",
      "Q2                      128.2593     19.823      6.470      0.000      89.404     167.114\n",
      "Q3                      240.2213     20.441     11.752      0.000     200.156     280.287\n",
      "Q4                      450.3176     20.802     21.647      0.000     409.543     491.092\n",
      "Q5                      916.0556     21.175     43.261      0.000     874.551     957.560\n",
      "apartment               130.2031     25.240      5.159      0.000      80.730     179.676\n",
      "house                    98.1497     35.976      2.728      0.006      27.634     168.665\n",
      "store                    25.8427     40.009      0.646      0.518     -52.578     104.263\n",
      "==============================================================================\n",
      "Omnibus:                     5635.588   Durbin-Watson:                   1.982\n",
      "Prob(Omnibus):                  0.000   Jarque-Bera (JB):            20476.564\n",
      "Skew:                           1.466   Prob(JB):                         0.00\n",
      "Kurtosis:                       7.159   Cond. No.                     4.82e+03\n",
      "==============================================================================\n",
      "\n",
      "Notes:\n",
      "[1] R² is computed without centering (uncentered) since the model does not contain a constant.\n",
      "[2] Standard Errors assume that the covariance matrix of the errors is correctly specified.\n",
      "[3] The condition number is large, 4.82e+03. This might indicate that there are\n",
      "strong multicollinearity or other numerical problems.\n"
     ]
    }
   ],
   "source": [
    "def get_stats():\n",
    "    x = data2[x_columns]\n",
    "    results = sm.OLS(y, x).fit()\n",
    "    print(results.summary())\n",
    "get_stats()"
   ]
  },
  {
   "cell_type": "markdown",
   "metadata": {},
   "source": [
    "Como se puede observar la columna dummie ```store``` no es significativa para el modelo. Como se eliminará esta columna y los registros con esta columna en 1 y se correrá nuevamente el modelo a fin de evaluar su mejora.  "
   ]
  },
  {
   "cell_type": "markdown",
   "metadata": {},
   "source": [
    "#### Escenario 3 - Feature Engeneering"
   ]
  },
  {
   "cell_type": "code",
   "execution_count": 596,
   "metadata": {},
   "outputs": [],
   "source": [
    "data3 = data2.loc[data2['store']!=1].drop(['store'], axis=1).reset_index(drop=True)"
   ]
  },
  {
   "cell_type": "code",
   "execution_count": 597,
   "metadata": {},
   "outputs": [],
   "source": [
    "X = data3.drop(['price_aprox_usd','precio_per_m2'],axis=1)\n",
    "y = data3['precio_per_m2']"
   ]
  },
  {
   "cell_type": "code",
   "execution_count": 600,
   "metadata": {},
   "outputs": [],
   "source": [
    "col = X.columns.to_list()"
   ]
  },
  {
   "cell_type": "code",
   "execution_count": 601,
   "metadata": {},
   "outputs": [],
   "source": [
    "scl = StandardScaler()\n",
    "X = scl.fit_transform(X)\n",
    "X = pd.DataFrame(X)\n",
    "X.columns = col\n",
    "X_train, X_test, y_train, y_test = train_test_split(X, y, test_size=0.3, random_state=42)\n",
    "linreg_sc = LinearRegression()\n",
    "modelLreg_sc_eng = linreg_sc.fit(X_train, y_train)\n"
   ]
  },
  {
   "cell_type": "code",
   "execution_count": 602,
   "metadata": {},
   "outputs": [
    {
     "name": "stdout",
     "output_type": "stream",
     "text": [
      "RMSE Train: 761.0550115490271\n",
      "\n",
      "RMSE Test: 756.3368945278656\n",
      "\n",
      "MAE Train: 533.008079232026\n",
      "\n",
      "MAE Test: 531.7125850443176\n",
      "\n",
      "R^2(train)= 0.3234063593733133\n",
      "R^2_ajt(train)= 0.32303629229426356\n",
      "\n",
      "R^2(test)= 0.334967944636575\n",
      "R^2_ajt(test)= 0.3346042012381374\n",
      "\n"
     ]
    },
    {
     "data": {
      "image/png": "[encoded data removed]",
      "text/plain": [
       "<Figure size 864x288 with 2 Axes>"
      ]
     },
     "metadata": {
      "needs_background": "light"
     },
     "output_type": "display_data"
    }
   ],
   "source": [
    "Escenario3 = model_ev(X_train,X_test,y_train,y_test, modelLreg_sc_eng)\n"
   ]
  },
  {
   "cell_type": "code",
   "execution_count": 605,
   "metadata": {},
   "outputs": [
    {
     "name": "stdout",
     "output_type": "stream",
     "text": [
      "Escenario 3 - RegLineal Datos Sin Outliers, Col Escaladas, SIN STORES \n",
      " MAE TEST: 532.0656451152457, MAE TRAIN:  531.0421109406163\n"
     ]
    }
   ],
   "source": [
    "model_ev_cv(modelLreg_sc_eng,\"Escenario 3 - RegLineal Datos Sin Outliers, Col Escaladas, SIN STORES\", X_test, y_test,10)"
   ]
  },
  {
   "cell_type": "code",
   "execution_count": 611,
   "metadata": {},
   "outputs": [
    {
     "data": {
      "text/html": [
       "<div>\n",
       "<style scoped>\n",
       "    .dataframe tbody tr th:only-of-type {\n",
       "        vertical-align: middle;\n",
       "    }\n",
       "\n",
       "    .dataframe tbody tr th {\n",
       "        vertical-align: top;\n",
       "    }\n",
       "\n",
       "    .dataframe thead th {\n",
       "        text-align: right;\n",
       "    }\n",
       "</style>\n",
       "<table border=\"1\" class=\"dataframe\">\n",
       "  <thead>\n",
       "    <tr style=\"text-align: right;\">\n",
       "      <th></th>\n",
       "      <th>Escenario 1</th>\n",
       "      <th>Escenario 2</th>\n",
       "      <th>Escenario 3</th>\n",
       "    </tr>\n",
       "  </thead>\n",
       "  <tbody>\n",
       "    <tr>\n",
       "      <th>MAE TRAIN</th>\n",
       "      <td>1647.05</td>\n",
       "      <td>535.28</td>\n",
       "      <td>533.01</td>\n",
       "    </tr>\n",
       "    <tr>\n",
       "      <th>MAE TEST</th>\n",
       "      <td>1430.20</td>\n",
       "      <td>545.44</td>\n",
       "      <td>531.71</td>\n",
       "    </tr>\n",
       "    <tr>\n",
       "      <th>R^2_ajt(train)</th>\n",
       "      <td>0.00</td>\n",
       "      <td>0.32</td>\n",
       "      <td>0.32</td>\n",
       "    </tr>\n",
       "    <tr>\n",
       "      <th>R^2_ajt(test)</th>\n",
       "      <td>0.01</td>\n",
       "      <td>0.31</td>\n",
       "      <td>0.33</td>\n",
       "    </tr>\n",
       "  </tbody>\n",
       "</table>\n",
       "</div>"
      ],
      "text/plain": [
       "                Escenario 1  Escenario 2  Escenario 3\n",
       "MAE TRAIN           1647.05       535.28       533.01\n",
       "MAE TEST            1430.20       545.44       531.71\n",
       "R^2_ajt(train)         0.00         0.32         0.32\n",
       "R^2_ajt(test)          0.01         0.31         0.33"
      ]
     },
     "execution_count": 611,
     "metadata": {},
     "output_type": "execute_result"
    }
   ],
   "source": [
    "pd.DataFrame({'Escenario 1': Escenario1, 'Escenario 2': Escenario2, 'Escenario 3': Escenario3})"
   ]
  },
  {
   "cell_type": "markdown",
   "metadata": {},
   "source": [
    "En este tercer escenario se observó una leve mejora, el modelo se hizo mas específico para casas y departamentos. Las metricas en test y train no son tan diferentes por lo cual no se considera que el modelo esté sobre entrenando. Incluso haciendo este ultimo cambio, disminuyendo la complejidad del modelo no se logró una gran mejora."
   ]
  },
  {
   "cell_type": "markdown",
   "metadata": {},
   "source": [
    "#### Escenario 4 y 5 - Regularización\n",
    "A modo de explorar posibles mejoras en el modelo, se procede a usar la regularización como estrategia de modelado. Se prestará especial atención a la regularización LASSO ya que buscamos conocer si es necesario elimnar alguna columna más."
   ]
  },
  {
   "cell_type": "code",
   "execution_count": 612,
   "metadata": {},
   "outputs": [],
   "source": [
    "from sklearn.linear_model import RidgeCV\n",
    "from sklearn.linear_model import LassoCV"
   ]
  },
  {
   "cell_type": "code",
   "execution_count": 613,
   "metadata": {},
   "outputs": [
    {
     "name": "stdout",
     "output_type": "stream",
     "text": [
      "1.5\n",
      "[ 320.38880187  207.66519571  589.22915358 -597.77659233   44.44441525\n",
      "   86.40967193  144.71924751  298.97193702    6.92184842   21.2493802 ]\n",
      "2495.6417050214736\n"
     ]
    }
   ],
   "source": [
    "model_ridge_cv = RidgeCV(alphas= [0.001, 0.01, 0.1, 0.3, 0.5, 1.0, 1.1, 1.15, 1.17, 1.18, 1.19, 1.2, 1.21, 1.22, 1.3, 1.4, 1.5, 10.0], \n",
    "                                   fit_intercept=True, cv=10)\n",
    "model_ridge_cv.fit(X_train, y_train)\n",
    "\n",
    "print(model_ridge_cv.alpha_)\n",
    "\n",
    "print(model_ridge_cv.coef_)\n",
    "\n",
    "print(model_ridge_cv.intercept_)"
   ]
  },
  {
   "cell_type": "code",
   "execution_count": 614,
   "metadata": {},
   "outputs": [
    {
     "name": "stdout",
     "output_type": "stream",
     "text": [
      "RMSE Train: 761.0551623186135\n",
      "\n",
      "RMSE Test: 756.3339522666503\n",
      "\n",
      "MAE Train: 533.001392727254\n",
      "\n",
      "MAE Test: 531.7027283213224\n",
      "\n",
      "R^2(train)= 0.323406091298729\n",
      "R^2_ajt(train)= 0.3230360240730542\n",
      "\n",
      "R^2(test)= 0.3349731187705707\n",
      "R^2_ajt(test)= 0.33460937820215775\n",
      "\n"
     ]
    },
    {
     "data": {
      "image/png": "[encoded data removed]",
      "text/plain": [
       "<Figure size 864x288 with 2 Axes>"
      ]
     },
     "metadata": {
      "needs_background": "light"
     },
     "output_type": "display_data"
    }
   ],
   "source": [
    "Escenario4 = model_ev(X_train,X_test,y_train,y_test, model_ridge_cv)"
   ]
  },
  {
   "cell_type": "code",
   "execution_count": 615,
   "metadata": {},
   "outputs": [
    {
     "name": "stdout",
     "output_type": "stream",
     "text": [
      "Ridge CV \n",
      " MAE TEST: 532.0521266223813, MAE TRAIN:  531.0273561125298\n"
     ]
    }
   ],
   "source": [
    "model_ev_cv(model_ridge_cv,\"Ridge CV\", X_test, y_test,10)"
   ]
  },
  {
   "cell_type": "code",
   "execution_count": 616,
   "metadata": {},
   "outputs": [
    {
     "name": "stdout",
     "output_type": "stream",
     "text": [
      "0.3\n",
      "[ 320.29844528  207.6102916   584.17244313 -592.74393079   43.22594513\n",
      "   85.20274071  143.57588971  297.92314176    6.67671436   20.41393936]\n",
      "2495.6317618235203\n"
     ]
    }
   ],
   "source": [
    "model_lasso_cv = LassoCV(alphas= [0.3, 0.5, 1.0, 1.1, 1.15, 1.17, 1.18, 1.19, 1.2, 1.21, 1.22, 1.3, 1.4, 1.5, 2, 3, 6, 10.0], \n",
    "                                   fit_intercept=True, cv=10)\n",
    "model_lasso_cv.fit(X_train, y_train)\n",
    "\n",
    "print(model_lasso_cv.alpha_)\n",
    "\n",
    "print(model_lasso_cv.coef_)\n",
    "\n",
    "print(model_lasso_cv.intercept_)"
   ]
  },
  {
   "cell_type": "code",
   "execution_count": 617,
   "metadata": {},
   "outputs": [
    {
     "name": "stdout",
     "output_type": "stream",
     "text": [
      "RMSE Train: 761.0588328477654\n",
      "\n",
      "RMSE Test: 756.3429634604606\n",
      "\n",
      "MAE Train: 532.9562283600087\n",
      "\n",
      "MAE Test: 531.63347817713\n",
      "\n",
      "R^2(train)= 0.32339956492908006\n",
      "R^2_ajt(train)= 0.3230294941337669\n",
      "\n",
      "R^2(test)= 0.3349572720092321\n",
      "R^2_ajt(test)= 0.3345935227733349\n",
      "\n"
     ]
    },
    {
     "data": {
      "image/png": "[encoded data removed]",
      "text/plain": [
       "<Figure size 864x288 with 2 Axes>"
      ]
     },
     "metadata": {
      "needs_background": "light"
     },
     "output_type": "display_data"
    }
   ],
   "source": [
    "Escenario5 = model_ev(X_train,X_test,y_train,y_test, model_lasso_cv)"
   ]
  },
  {
   "cell_type": "code",
   "execution_count": 618,
   "metadata": {},
   "outputs": [
    {
     "name": "stdout",
     "output_type": "stream",
     "text": [
      "Lasso CV \n",
      " MAE TEST: 531.9964592644734, MAE TRAIN:  530.971876954696\n"
     ]
    }
   ],
   "source": [
    "model_ev_cv(model_lasso_cv,\"Lasso CV\", X_test, y_test,10)"
   ]
  },
  {
   "cell_type": "code",
   "execution_count": 619,
   "metadata": {},
   "outputs": [
    {
     "data": {
      "text/html": [
       "<div>\n",
       "<style scoped>\n",
       "    .dataframe tbody tr th:only-of-type {\n",
       "        vertical-align: middle;\n",
       "    }\n",
       "\n",
       "    .dataframe tbody tr th {\n",
       "        vertical-align: top;\n",
       "    }\n",
       "\n",
       "    .dataframe thead th {\n",
       "        text-align: right;\n",
       "    }\n",
       "</style>\n",
       "<table border=\"1\" class=\"dataframe\">\n",
       "  <thead>\n",
       "    <tr style=\"text-align: right;\">\n",
       "      <th></th>\n",
       "      <th>Escenario 1</th>\n",
       "      <th>Escenario 2</th>\n",
       "      <th>Escenario 3</th>\n",
       "      <th>Escenario 4</th>\n",
       "      <th>Escenario 5</th>\n",
       "    </tr>\n",
       "  </thead>\n",
       "  <tbody>\n",
       "    <tr>\n",
       "      <th>MAE TRAIN</th>\n",
       "      <td>1647.05</td>\n",
       "      <td>535.28</td>\n",
       "      <td>533.01</td>\n",
       "      <td>533.00</td>\n",
       "      <td>532.96</td>\n",
       "    </tr>\n",
       "    <tr>\n",
       "      <th>MAE TEST</th>\n",
       "      <td>1430.20</td>\n",
       "      <td>545.44</td>\n",
       "      <td>531.71</td>\n",
       "      <td>531.70</td>\n",
       "      <td>531.63</td>\n",
       "    </tr>\n",
       "    <tr>\n",
       "      <th>R^2_ajt(train)</th>\n",
       "      <td>0.00</td>\n",
       "      <td>0.32</td>\n",
       "      <td>0.32</td>\n",
       "      <td>0.32</td>\n",
       "      <td>0.32</td>\n",
       "    </tr>\n",
       "    <tr>\n",
       "      <th>R^2_ajt(test)</th>\n",
       "      <td>0.01</td>\n",
       "      <td>0.31</td>\n",
       "      <td>0.33</td>\n",
       "      <td>0.33</td>\n",
       "      <td>0.33</td>\n",
       "    </tr>\n",
       "  </tbody>\n",
       "</table>\n",
       "</div>"
      ],
      "text/plain": [
       "                Escenario 1  Escenario 2  Escenario 3  Escenario 4  \\\n",
       "MAE TRAIN           1647.05       535.28       533.01       533.00   \n",
       "MAE TEST            1430.20       545.44       531.71       531.70   \n",
       "R^2_ajt(train)         0.00         0.32         0.32         0.32   \n",
       "R^2_ajt(test)          0.01         0.31         0.33         0.33   \n",
       "\n",
       "                Escenario 5  \n",
       "MAE TRAIN            532.96  \n",
       "MAE TEST             531.63  \n",
       "R^2_ajt(train)         0.32  \n",
       "R^2_ajt(test)          0.33  "
      ]
     },
     "execution_count": 619,
     "metadata": {},
     "output_type": "execute_result"
    }
   ],
   "source": [
    "pd.DataFrame({\n",
    "    'Escenario 1': Escenario1, \n",
    "    'Escenario 2': Escenario2, \n",
    "    'Escenario 3': Escenario3,\n",
    "    'Escenario 4': Escenario4,\n",
    "    'Escenario 5': Escenario5\n",
    "})"
   ]
  },
  {
   "cell_type": "markdown",
   "metadata": {},
   "source": [
    "No se observan grandes mejoras usando regularización, la regularización L2 - Lasso no mostró que penalize alguna columna. \n",
    "Como conclusión final se puede decir que se decide optar por un modelo generalizar que incluya todos los tipos de propiedades."
   ]
  },
  {
   "cell_type": "markdown",
   "metadata": {},
   "source": [
    "#### Escenario 6 - Usando el df de Ameneties"
   ]
  },
  {
   "cell_type": "code",
   "execution_count": 650,
   "metadata": {},
   "outputs": [],
   "source": [
    "data_bsas2 = pd.read_csv('./Data/data_tp2.csv', index_col= 0)"
   ]
  },
  {
   "cell_type": "code",
   "execution_count": 647,
   "metadata": {},
   "outputs": [
    {
     "data": {
      "text/plain": [
       "(28439, 11)"
      ]
     },
     "execution_count": 647,
     "metadata": {},
     "output_type": "execute_result"
    }
   ],
   "source": [
    "data_bsas2.shape"
   ]
  },
  {
   "cell_type": "code",
   "execution_count": 648,
   "metadata": {},
   "outputs": [
    {
     "data": {
      "text/plain": [
       "(28439, 22)"
      ]
     },
     "execution_count": 648,
     "metadata": {},
     "output_type": "execute_result"
    }
   ],
   "source": [
    "df_amenities.shape"
   ]
  },
  {
   "cell_type": "code",
   "execution_count": 652,
   "metadata": {},
   "outputs": [],
   "source": [
    "data_bsas2 = pd.concat([data_bsas2, dumm1, dumm2, df_amenities], axis=1)\n",
    "data_bsas2=data_bsas2.drop(['rooms','property_type' ,'description', 'title', 'place_category'], axis=1)\n",
    "data_bsas2 = data_bsas2.dropna().reset_index(drop=True)"
   ]
  },
  {
   "cell_type": "code",
   "execution_count": 653,
   "metadata": {},
   "outputs": [
    {
     "data": {
      "text/plain": [
       "Index(['lat', 'lon', 'price_aprox_usd', 'surface_covered_in_m2',\n",
       "       'surface_total_fixed', 'precio_per_m2', 'Q2', 'Q3', 'Q4', 'Q5',\n",
       "       'apartment', 'house', 'store', 'pileta', 'nuevo', 'amenities',\n",
       "       'monoamb', 'aptoprof', 'contrafrente', 'SUM', 'calefa', 'terraza',\n",
       "       'parrilla', 'galeria', 'jardin_patio', 'lavadero', 'balcon', 'gym',\n",
       "       'jacuzzi', 'toillette', 'en_suite', 'baulera', 'escritorio',\n",
       "       'al_frente', 'esq_av', 'Q2', 'Q3', 'Q4', 'Q5', 'apartment', 'house',\n",
       "       'store', 'pileta', 'nuevo', 'amenities', 'monoamb', 'aptoprof',\n",
       "       'contrafrente', 'SUM', 'calefa', 'terraza', 'parrilla', 'galeria',\n",
       "       'jardin_patio', 'lavadero', 'balcon', 'gym', 'jacuzzi', 'toillette',\n",
       "       'en_suite', 'baulera', 'escritorio', 'al_frente', 'esq_av'],\n",
       "      dtype='object')"
      ]
     },
     "execution_count": 653,
     "metadata": {},
     "output_type": "execute_result"
    }
   ],
   "source": [
    "data_bsas2.columns"
   ]
  },
  {
   "cell_type": "code",
   "execution_count": 654,
   "metadata": {},
   "outputs": [
    {
     "data": {
      "text/plain": [
       "(21037, 64)"
      ]
     },
     "execution_count": 654,
     "metadata": {},
     "output_type": "execute_result"
    }
   ],
   "source": [
    "data_bsas2.shape"
   ]
  },
  {
   "cell_type": "code",
   "execution_count": 655,
   "metadata": {},
   "outputs": [],
   "source": [
    "data_bsas2 = data_bsas2.loc[(data_bsas2['surface_total_fixed']<353.41)&(data_bsas2['surface_total_fixed']>26)]\n",
    "data_bsas2 = data_bsas2.loc[(data_bsas2['precio_per_m2']<6910.76)&(data_bsas2['precio_per_m2']>940)]\n"
   ]
  },
  {
   "cell_type": "code",
   "execution_count": 656,
   "metadata": {},
   "outputs": [
    {
     "data": {
      "text/plain": [
       "(18981, 64)"
      ]
     },
     "execution_count": 656,
     "metadata": {},
     "output_type": "execute_result"
    }
   ],
   "source": [
    "data_bsas2.shape"
   ]
  },
  {
   "cell_type": "code",
   "execution_count": 662,
   "metadata": {},
   "outputs": [],
   "source": [
    "data_bsas2 = data_bsas2.reset_index(drop=True)"
   ]
  },
  {
   "cell_type": "code",
   "execution_count": 664,
   "metadata": {},
   "outputs": [],
   "source": [
    "X = data_bsas2.drop(['price_aprox_usd','precio_per_m2'],axis=1)\n",
    "y = data_bsas2['precio_per_m2']\n",
    "col = X.columns.to_list()\n",
    "\n",
    "scl = StandardScaler()\n",
    "X = scl.fit_transform(X)\n",
    "X = pd.DataFrame(X)\n",
    "X.columns = col\n",
    "\n",
    "X_train, X_test, y_train, y_test = train_test_split(X, y, test_size=0.3, random_state=42)\n",
    "linreg_sc = LinearRegression()\n",
    "model_ameneties = linreg_sc.fit(X_train, y_train)\n"
   ]
  },
  {
   "cell_type": "code",
   "execution_count": 665,
   "metadata": {},
   "outputs": [
    {
     "name": "stdout",
     "output_type": "stream",
     "text": [
      "RMSE Train: 747.7805431327037\n",
      "\n",
      "RMSE Test: 753.1808188141295\n",
      "\n",
      "MAE Train: 527.5814304297113\n",
      "\n",
      "MAE Test: 534.7961268007804\n",
      "\n",
      "R^2(train)= 0.35416579388756375\n",
      "R^2_ajt(train)= 0.3520492001261212\n",
      "\n",
      "R^2(test)= 0.3505857558329013\n",
      "R^2_ajt(test)= 0.34845742920543754\n",
      "\n"
     ]
    },
    {
     "data": {
      "image/png": "[encoded data removed]",
      "text/plain": [
       "<Figure size 864x288 with 2 Axes>"
      ]
     },
     "metadata": {
      "needs_background": "light"
     },
     "output_type": "display_data"
    }
   ],
   "source": [
    "Escenario6 = model_ev(X_train,X_test,y_train,y_test, model_ameneties)\n"
   ]
  },
  {
   "cell_type": "code",
   "execution_count": 666,
   "metadata": {},
   "outputs": [
    {
     "name": "stdout",
     "output_type": "stream",
     "text": [
      "Escenario 2 - RegLineal Datos Sin Outliers Escalados \n",
      " MAE TEST: 535.3124491498207, MAE TRAIN:  530.692349538094\n"
     ]
    }
   ],
   "source": [
    "model_ev_cv(model_ameneties,\"Escenario 2 - RegLineal Datos Sin Outliers Escalados\", X_test, y_test,10)"
   ]
  },
  {
   "cell_type": "code",
   "execution_count": 669,
   "metadata": {},
   "outputs": [
    {
     "data": {
      "text/html": [
       "<div>\n",
       "<style scoped>\n",
       "    .dataframe tbody tr th:only-of-type {\n",
       "        vertical-align: middle;\n",
       "    }\n",
       "\n",
       "    .dataframe tbody tr th {\n",
       "        vertical-align: top;\n",
       "    }\n",
       "\n",
       "    .dataframe thead th {\n",
       "        text-align: right;\n",
       "    }\n",
       "</style>\n",
       "<table border=\"1\" class=\"dataframe\">\n",
       "  <thead>\n",
       "    <tr style=\"text-align: right;\">\n",
       "      <th></th>\n",
       "      <th>Escenario 1</th>\n",
       "      <th>Escenario 2</th>\n",
       "      <th>Escenario 3</th>\n",
       "      <th>Escenario 4</th>\n",
       "      <th>Escenario 5</th>\n",
       "      <th>Escenario 6</th>\n",
       "    </tr>\n",
       "  </thead>\n",
       "  <tbody>\n",
       "    <tr>\n",
       "      <th>MAE TRAIN</th>\n",
       "      <td>1647.05</td>\n",
       "      <td>527.58</td>\n",
       "      <td>533.01</td>\n",
       "      <td>533.00</td>\n",
       "      <td>532.96</td>\n",
       "      <td>527.58</td>\n",
       "    </tr>\n",
       "    <tr>\n",
       "      <th>MAE TEST</th>\n",
       "      <td>1430.20</td>\n",
       "      <td>534.80</td>\n",
       "      <td>531.71</td>\n",
       "      <td>531.70</td>\n",
       "      <td>531.63</td>\n",
       "      <td>534.80</td>\n",
       "    </tr>\n",
       "    <tr>\n",
       "      <th>R^2_ajt(train)</th>\n",
       "      <td>0.00</td>\n",
       "      <td>0.35</td>\n",
       "      <td>0.32</td>\n",
       "      <td>0.32</td>\n",
       "      <td>0.32</td>\n",
       "      <td>0.35</td>\n",
       "    </tr>\n",
       "    <tr>\n",
       "      <th>R^2_ajt(test)</th>\n",
       "      <td>0.01</td>\n",
       "      <td>0.35</td>\n",
       "      <td>0.33</td>\n",
       "      <td>0.33</td>\n",
       "      <td>0.33</td>\n",
       "      <td>0.35</td>\n",
       "    </tr>\n",
       "  </tbody>\n",
       "</table>\n",
       "</div>"
      ],
      "text/plain": [
       "                Escenario 1  Escenario 2  Escenario 3  Escenario 4  \\\n",
       "MAE TRAIN           1647.05       527.58       533.01       533.00   \n",
       "MAE TEST            1430.20       534.80       531.71       531.70   \n",
       "R^2_ajt(train)         0.00         0.35         0.32         0.32   \n",
       "R^2_ajt(test)          0.01         0.35         0.33         0.33   \n",
       "\n",
       "                Escenario 5  Escenario 6  \n",
       "MAE TRAIN            532.96       527.58  \n",
       "MAE TEST             531.63       534.80  \n",
       "R^2_ajt(train)         0.32         0.35  \n",
       "R^2_ajt(test)          0.33         0.35  "
      ]
     },
     "execution_count": 669,
     "metadata": {},
     "output_type": "execute_result"
    }
   ],
   "source": [
    "pd.DataFrame({\n",
    "    'Escenario 1': Escenario1, \n",
    "    'Escenario 2': Escenario2, \n",
    "    'Escenario 3': Escenario3,\n",
    "    'Escenario 4': Escenario4,\n",
    "    'Escenario 5': Escenario5,\n",
    "    'Escenario 6': Escenario6\n",
    "})"
   ]
  },
  {
   "cell_type": "markdown",
   "metadata": {},
   "source": [
    "Aumentando la complejidad sumando las amenities se mejoro levemente el R2 Ajustado y el MAE. Sin embargo la diferencia no es tan drástica como para sumar tanta complejidad a lo realizado. \n",
    "A modo descriptivo de analiizan las columnas que podrian tener mayor importancia para futuras modelaciones, es decir deberiamos encontrar la combinacion de features que maximice el R2 y a la vez minimize el MAE."
   ]
  },
  {
   "cell_type": "code",
   "execution_count": 668,
   "metadata": {},
   "outputs": [
    {
     "name": "stdout",
     "output_type": "stream",
     "text": [
      "                                 OLS Regression Results                                \n",
      "=======================================================================================\n",
      "Dep. Variable:          precio_per_m2   R-squared (uncentered):                   0.044\n",
      "Model:                            OLS   Adj. R-squared (uncentered):              0.043\n",
      "Method:                 Least Squares   F-statistic:                              26.56\n",
      "Date:                Fri, 02 Dec 2022   Prob (F-statistic):                   7.74e-159\n",
      "Time:                        17:28:52   Log-Likelihood:                     -1.7624e+05\n",
      "No. Observations:               18981   AIC:                                  3.525e+05\n",
      "Df Residuals:                   18948   BIC:                                  3.528e+05\n",
      "Df Model:                          33                                                  \n",
      "Covariance Type:            nonrobust                                                  \n",
      "=========================================================================================\n",
      "                            coef    std err          t      P>|t|      [0.025      0.975]\n",
      "-----------------------------------------------------------------------------------------\n",
      "lat                     308.4378     19.722     15.639      0.000     269.781     347.095\n",
      "lon                     194.5574     19.797      9.828      0.000     155.753     233.362\n",
      "surface_covered_in_m2   548.7020     68.496      8.011      0.000     414.444     682.960\n",
      "surface_total_fixed    -561.1634     68.869     -8.148      0.000    -696.154    -426.173\n",
      "Q2                       15.6305     12.860      1.215      0.224      -9.576      40.837\n",
      "Q3                       36.3134     12.984      2.797      0.005      10.864      61.763\n",
      "Q4                       65.2632     13.060      4.997      0.000      39.664      90.862\n",
      "Q5                      137.4535     12.646     10.869      0.000     112.666     162.241\n",
      "apartment                 3.6920     14.270      0.259      0.796     -24.278      31.662\n",
      "house                    10.0699     12.112      0.831      0.406     -13.671      33.811\n",
      "store                    -3.4973     11.694     -0.299      0.765     -26.418      19.424\n",
      "pileta                   36.3183     10.637      3.414      0.001      15.468      57.168\n",
      "nuevo                    28.2919     14.032      2.016      0.044       0.787      55.797\n",
      "amenities                36.4420     11.098      3.284      0.001      14.689      58.195\n",
      "monoamb                   1.1344     13.699      0.083      0.934     -25.716      27.985\n",
      "aptoprof                -11.9549     11.509     -1.039      0.299     -34.513      10.604\n",
      "contrafrente             -6.5752     12.239     -0.537      0.591     -30.565      17.415\n",
      "SUM                       7.3069      9.968      0.733      0.464     -12.231      26.845\n",
      "calefa                   -1.5072      9.800     -0.154      0.878     -20.716      17.702\n",
      "terraza                  -7.2276     11.467     -0.630      0.529     -29.705      15.250\n",
      "parrilla                  1.0662      9.735      0.110      0.913     -18.016      20.149\n",
      "galeria                 -18.0986      9.696     -1.867      0.062     -37.104       0.907\n",
      "jardin_patio            -20.9480     13.067     -1.603      0.109     -46.560       4.664\n",
      "lavadero                -15.3467     11.619     -1.321      0.187     -38.122       7.428\n",
      "balcon                   12.3387     15.726      0.785      0.433     -18.486      43.164\n",
      "gym                      19.4773      9.653      2.018      0.044       0.556      38.398\n",
      "jacuzzi                   1.0779      9.613      0.112      0.911     -17.765      19.920\n",
      "toillette                 9.6998     11.241      0.863      0.388     -12.333      31.733\n",
      "en_suite                 59.5320     11.183      5.323      0.000      37.612      81.452\n",
      "baulera                  26.6725     10.746      2.482      0.013       5.609      47.736\n",
      "escritorio               -4.0532     10.554     -0.384      0.701     -24.741      16.634\n",
      "al_frente               -14.3218     14.995     -0.955      0.340     -43.714      15.070\n",
      "esq_av                   -1.5322     12.589     -0.122      0.903     -26.208      23.144\n",
      "Q2                       15.6305     12.860      1.215      0.224      -9.576      40.837\n",
      "Q3                       36.3134     12.984      2.797      0.005      10.864      61.763\n",
      "Q4                       65.2632     13.060      4.997      0.000      39.664      90.862\n",
      "Q5                      137.4535     12.646     10.869      0.000     112.666     162.241\n",
      "apartment                 3.6920     14.270      0.259      0.796     -24.278      31.662\n",
      "house                    10.0699     12.112      0.831      0.406     -13.671      33.811\n",
      "store                    -3.4973     11.694     -0.299      0.765     -26.418      19.424\n",
      "pileta                   36.3183     10.637      3.414      0.001      15.468      57.168\n",
      "nuevo                    28.2919     14.032      2.016      0.044       0.787      55.797\n",
      "amenities                36.4420     11.098      3.284      0.001      14.689      58.195\n",
      "monoamb                   1.1344     13.699      0.083      0.934     -25.716      27.985\n",
      "aptoprof                -11.9549     11.509     -1.039      0.299     -34.513      10.604\n",
      "contrafrente             -6.5752     12.239     -0.537      0.591     -30.565      17.415\n",
      "SUM                       7.3069      9.968      0.733      0.464     -12.231      26.845\n",
      "calefa                   -1.5072      9.800     -0.154      0.878     -20.716      17.702\n",
      "terraza                  -7.2276     11.467     -0.630      0.529     -29.705      15.250\n",
      "parrilla                  1.0662      9.735      0.110      0.913     -18.016      20.149\n",
      "galeria                 -18.0986      9.696     -1.867      0.062     -37.104       0.907\n",
      "jardin_patio            -20.9480     13.067     -1.603      0.109     -46.560       4.664\n",
      "lavadero                -15.3467     11.619     -1.321      0.187     -38.122       7.428\n",
      "balcon                   12.3387     15.726      0.785      0.433     -18.486      43.164\n",
      "gym                      19.4773      9.653      2.018      0.044       0.556      38.398\n",
      "jacuzzi                   1.0779      9.613      0.112      0.911     -17.765      19.920\n",
      "toillette                 9.6998     11.241      0.863      0.388     -12.333      31.733\n",
      "en_suite                 59.5320     11.183      5.323      0.000      37.612      81.452\n",
      "baulera                  26.6725     10.746      2.482      0.013       5.609      47.736\n",
      "escritorio               -4.0532     10.554     -0.384      0.701     -24.741      16.634\n",
      "al_frente               -14.3218     14.995     -0.955      0.340     -43.714      15.070\n",
      "esq_av                   -1.5322     12.589     -0.122      0.903     -26.208      23.144\n",
      "==============================================================================\n",
      "Omnibus:                     5315.392   Durbin-Watson:                   0.155\n",
      "Prob(Omnibus):                  0.000   Jarque-Bera (JB):            20211.769\n",
      "Skew:                           1.361   Prob(JB):                         0.00\n",
      "Kurtosis:                       7.260   Cond. No.                     2.04e+16\n",
      "==============================================================================\n",
      "\n",
      "Notes:\n",
      "[1] R² is computed without centering (uncentered) since the model does not contain a constant.\n",
      "[2] Standard Errors assume that the covariance matrix of the errors is correctly specified.\n",
      "[3] The smallest eigenvalue is 1.69e-28. This might indicate that there are\n",
      "strong multicollinearity problems or that the design matrix is singular.\n"
     ]
    }
   ],
   "source": [
    "def get_stats():\n",
    "    x = X\n",
    "    results = sm.OLS(y, x).fit()\n",
    "    print(results.summary())\n",
    "get_stats()"
   ]
  },
  {
   "cell_type": "markdown",
   "metadata": {},
   "source": [
    "```\n",
    "                           coef    std err          t      P>|t|      [0.025      0.975]\n",
    "-----------------------------------------------------------------------------------------\n",
    "lat                     308.4378     19.722     15.639      0.000     269.781     347.095\n",
    "lon                     194.5574     19.797      9.828      0.000     155.753     233.362\n",
    "surface_covered_in_m2   548.7020     68.496      8.011      0.000     414.444     682.960\n",
    "surface_total_fixed    -561.1634     68.869     -8.148      0.000    -696.154    -426.173\n",
    "Q2                       15.6305     12.860      1.215      0.224      -9.576      40.837\n",
    "Q3                       36.3134     12.984      2.797      0.005      10.864      61.763\n",
    "Q4                       65.2632     13.060      4.997      0.000      39.664      90.862\n",
    "Q5                      137.4535     12.646     10.869      0.000     112.666     162.241\n",
    "apartment                 3.6920     14.270      0.259      0.796     -24.278      31.662\n",
    "house                    10.0699     12.112      0.831      0.406     -13.671      33.811\n",
    "store                    -3.4973     11.694     -0.299      0.765     -26.418      19.424\n",
    "pileta                   36.3183     10.637      3.414      0.001      15.468      57.168\n",
    "nuevo                    28.2919     14.032      2.016      0.044       0.787      55.797\n",
    "amenities                36.4420     11.098      3.284      0.001      14.689      58.195\n",
    "monoamb                   1.1344     13.699      0.083      0.934     -25.716      27.985\n",
    "aptoprof                -11.9549     11.509     -1.039      0.299     -34.513      10.604\n",
    "contrafrente             -6.5752     12.239     -0.537      0.591     -30.565      17.415\n",
    "SUM                       7.3069      9.968      0.733      0.464     -12.231      26.845\n",
    "calefa                   -1.5072      9.800     -0.154      0.878     -20.716      17.702\n",
    "terraza                  -7.2276     11.467     -0.630      0.529     -29.705      15.250\n",
    "parrilla                  1.0662      9.735      0.110      0.913     -18.016      20.149\n",
    "galeria                 -18.0986      9.696     -1.867      0.062     -37.104       0.907\n",
    "jardin_patio            -20.9480     13.067     -1.603      0.109     -46.560       4.664\n",
    "lavadero                -15.3467     11.619     -1.321      0.187     -38.122       7.428\n",
    "balcon                   12.3387     15.726      0.785      0.433     -18.486      43.164\n",
    "gym                      19.4773      9.653      2.018      0.044       0.556      38.398\n",
    "jacuzzi                   1.0779      9.613      0.112      0.911     -17.765      19.920\n",
    "toillette                 9.6998     11.241      0.863      0.388     -12.333      31.733\n",
    "en_suite                 59.5320     11.183      5.323      0.000      37.612      81.452\n",
    "baulera                  26.6725     10.746      2.482      0.013       5.609      47.736\n",
    "escritorio               -4.0532     10.554     -0.384      0.701     -24.741      16.634\n",
    "al_frente               -14.3218     14.995     -0.955      0.340     -43.714      15.070\n",
    "esq_av                   -1.5322     12.589     -0.122      0.903     -26.208      23.144\n",
    "Q2                       15.6305     12.860      1.215      0.224      -9.576      40.837\n",
    "Q3                       36.3134     12.984      2.797      0.005      10.864      61.763\n",
    "Q4                       65.2632     13.060      4.997      0.000      39.664      90.862\n",
    "Q5                      137.4535     12.646     10.869      0.000     112.666     162.241\n",
    "apartment                 3.6920     14.270      0.259      0.796     -24.278      31.662\n",
    "house                    10.0699     12.112      0.831      0.406     -13.671      33.811\n",
    "store                    -3.4973     11.694     -0.299      0.765     -26.418      19.424\n",
    "pileta                   36.3183     10.637      3.414      0.001      15.468      57.168\n",
    "nuevo                    28.2919     14.032      2.016      0.044       0.787      55.797\n",
    "amenities                36.4420     11.098      3.284      0.001      14.689      58.195\n",
    "monoamb                   1.1344     13.699      0.083      0.934     -25.716      27.985\n",
    "aptoprof                -11.9549     11.509     -1.039      0.299     -34.513      10.604\n",
    "contrafrente             -6.5752     12.239     -0.537      0.591     -30.565      17.415\n",
    "SUM                       7.3069      9.968      0.733      0.464     -12.231      26.845\n",
    "calefa                   -1.5072      9.800     -0.154      0.878     -20.716      17.702\n",
    "terraza                  -7.2276     11.467     -0.630      0.529     -29.705      15.250\n",
    "parrilla                  1.0662      9.735      0.110      0.913     -18.016      20.149\n",
    "galeria                 -18.0986      9.696     -1.867      0.062     -37.104       0.907\n",
    "jardin_patio            -20.9480     13.067     -1.603      0.109     -46.560       4.664\n",
    "lavadero                -15.3467     11.619     -1.321      0.187     -38.122       7.428\n",
    "balcon                   12.3387     15.726      0.785      0.433     -18.486      43.164\n",
    "gym                      19.4773      9.653      2.018      0.044       0.556      38.398\n",
    "jacuzzi                   1.0779      9.613      0.112      0.911     -17.765      19.920\n",
    "toillette                 9.6998     11.241      0.863      0.388     -12.333      31.733\n",
    "en_suite                 59.5320     11.183      5.323      0.000      37.612      81.452\n",
    "baulera                  26.6725     10.746      2.482      0.013       5.609      47.736\n",
    "escritorio               -4.0532     10.554     -0.384      0.701     -24.741      16.634\n",
    "al_frente               -14.3218     14.995     -0.955      0.340     -43.714      15.070\n",
    "esq_av                   -1.5322     12.589     -0.122      0.903     -26.208      23.144\n",
    "```"
   ]
  }
 ],
 "metadata": {
  "kernelspec": {
   "display_name": "Python 3.8.13 ('dhdsblend2021')",
   "language": "python",
   "name": "python3"
  },
  "language_info": {
   "codemirror_mode": {
    "name": "ipython",
    "version": 3
   },
   "file_extension": ".py",
   "mimetype": "text/x-python",
   "name": "python",
   "nbconvert_exporter": "python",
   "pygments_lexer": "ipython3",
   "version": "3.8.13"
  },
  "orig_nbformat": 4,
  "vscode": {
   "interpreter": {
    "hash": "d8640428ed65ace219c2cd70f99da9356404a09732ea7ac413c5d9f431e79dd4"
   }
  }
 },
 "nbformat": 4,
 "nbformat_minor": 2
}
